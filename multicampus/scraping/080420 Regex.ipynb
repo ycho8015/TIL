{
 "cells": [
  {
   "cell_type": "markdown",
   "metadata": {},
   "source": [
    "# Regex: 정규표현식"
   ]
  },
  {
   "cell_type": "markdown",
   "metadata": {},
   "source": [
    "### Regex modules\n",
    "`import re`\n",
    "\n",
    "### Regex in Python\n",
    "\n",
    "```python\n",
    "pat = re.compile(\"패턴식\")\n",
    "pat.match(\"문자열\")\n",
    "\n",
    "# 위와 동일\n",
    "re.match(\"패턴식\", \"문자열\")\n",
    "```\n",
    "\n",
    "### Regex functions\n",
    "The `re` module offers a set of functions that allows us to search a string for a match:\n",
    "\n",
    "|Function|Description|\n",
    "|:-:|:-:|\n",
    "|findall|Returns a list containing all matches|\n",
    "|finditer|Returns a calleable iterator object|\n",
    "|match|Returns a Match object only if there is a match at the beginning of the string|\n",
    "|search|Returns a Match object if there is a match anywhere in the string|\n",
    "|split|Returns a list where the string has been split at each match|\n",
    "|sub|Replaces one or many matches with a string|\n",
    "\n",
    "### Metacharacters\n",
    "Metacharacters are characters with a special meaning:\n",
    "\n",
    "|Character|Description|Example|\n",
    "|:-:|:-:|:-:|\n",
    "|\"[]\"|A set of characters|[] [abc] [a-z] [a-zA-Z0-9] [가-힣]|\n",
    "|\"\\\\\"|Signals a special sequence (can also be used to escape special characters)|\\d|\n",
    "|\".\"|Any character(except newline character)|\"he..o\"|\n",
    "|\"^\"|Starts with|\"^hello\"|\n",
    "|\"\\$\"|Ends with|\"world$\"|\n",
    "|\"*\"|Zero or more occurrences|\"aix*\"|\n",
    "|\"+\"|One or more occurrences|\"aix+\"|\n",
    "|\"?\"|Zero or one repetitions of the preceding RE|\"ab?\"|\n",
    "|\"{}\"|Exactly the specified number of occurrences|\"al{2}\"|\n",
    "|\"\\|\"|Either or|\"falls\\|stays\"|\n",
    "|\"()\"|Capture and group||\t\n",
    "\n",
    "### Special Sequences\n",
    "A special sequence is a `\\` followed by one of the characters in the list below, and has a special meaning:\n",
    "\n",
    "|Character|Description|Example|\n",
    "|:-:|:-:|:-:|\n",
    "|\"\\A\"|Returns a match if the specified characters are at the beginning of the string|\"\\AThe\"|\n",
    "|\"\\b\"|Returns a match where the specified characters are at the beginning or at the end of a word(the \"r\" in the beginning is making sure that the string is being treated as a \"raw string\")|r\"\\bain\"r\"ain\\b\"|\n",
    "|\"\\B\"|Returns a match where the specified characters are present, but NOT at the beginning (or at the end) of a word(the \"r\" in the beginning is making sure that the string is being treated as a \"raw string\")|r\"\\Bain\"r\"ain\\B\"|\n",
    "|\"\\d\"|Returns a match where the string contains digits (numbers from 0-9)|\"\\d\"|\n",
    "|\"\\D\"|Returns a match where the string DOES NOT contain digits|\"\\D\"|\n",
    "|\"\\s\"|Returns a match where the string contains a white space character|\"\\s\"|\n",
    "|\"\\S\"|Returns a match where the string DOES NOT contain a white space character|\"\\S\"|\n",
    "|\"\\w\"|Returns a match where the string contains any word characters (characters from a to Z, digits from 0-9, and the underscore _ character)|\"\\w\"|\n",
    "|\"\\W\"|Returns a match where the string DOES NOT contain any word characters|\"\\W\"|\n",
    "|\"\\Z\"|Returns a match if the specified characters are at the end of the string|\"Spain\\Z\"|\n",
    "\n",
    "### Sets\n",
    "A set is a set of characters inside a pair of square brackets `[]` with a special meaning:\n",
    "\n",
    "|Set|Description|\n",
    "|:-:|:-:|\n",
    "|[arn]|Returns a match where one of the specified characters (a, r, or n) are present|\n",
    "|[a-n]|Returns a match for any lower case character, alphabetically between a and n|\n",
    "|[^arn]|Returns a match for any character EXCEPT a, r, and n|\n",
    "|[0123]|Returns a match where any of the specified digits (0, 1, 2, or 3) are present|\n",
    "|[0-9]|Returns a match for any digit between 0 and 9|\n",
    "|[0-5][0-9]|Returns a match for any two-digit numbers from 00 and 59|\n",
    "|[a-zA-Z]|Returns a match for any character alphabetically between a and z, lower case OR upper case|\n",
    "|[+]|In sets, +, *, ., |, (), $,{} has no special meaning, so [+] means: return a match for any + character in the string|"
   ]
  },
  {
   "cell_type": "code",
   "execution_count": 1,
   "metadata": {},
   "outputs": [
    {
     "name": "stdout",
     "output_type": "stream",
     "text": [
      "901015-*******\n",
      "991018-*******\n",
      "\n",
      "kim 901015-*******\n",
      "lee 991018-*******\n",
      "\n"
     ]
    }
   ],
   "source": [
    "import re\n",
    "\n",
    "txt = \"\"\"\n",
    "kim 901015-1028473\n",
    "lee 991018-1939403\n",
    "\"\"\"\n",
    "\n",
    "res=[]\n",
    "for line in txt.split(\"\\n\"):\n",
    "    for w in line.split(\" \"):\n",
    "        if len(w) == 14 and w[7:].isdigit():\n",
    "            print(w[:6] + \"-\" + \"*******\")\n",
    "            \n",
    "mypat = re.compile(\"(\\d{6})[-]\\d{7}\")\n",
    "print(mypat.sub(\"\\g<1>-*******\", txt))"
   ]
  },
  {
   "cell_type": "code",
   "execution_count": 2,
   "metadata": {},
   "outputs": [],
   "source": [
    "pat = re.compile(\"[a-z]+\")"
   ]
  },
  {
   "cell_type": "code",
   "execution_count": 3,
   "metadata": {},
   "outputs": [
    {
     "name": "stdout",
     "output_type": "stream",
     "text": [
      "False\n"
     ]
    }
   ],
   "source": [
    "match = True if pat.match(\"1test\") else False\n",
    "print(match)"
   ]
  },
  {
   "cell_type": "code",
   "execution_count": 4,
   "metadata": {},
   "outputs": [
    {
     "name": "stdout",
     "output_type": "stream",
     "text": [
      "True\n"
     ]
    }
   ],
   "source": [
    "match = True if pat.search(\"1test\") else False\n",
    "print(match)"
   ]
  },
  {
   "cell_type": "code",
   "execution_count": 5,
   "metadata": {},
   "outputs": [
    {
     "name": "stdout",
     "output_type": "stream",
     "text": [
      "True\n"
     ]
    }
   ],
   "source": [
    "match = True if pat.search(\"1test 2test 3test\") else False\n",
    "print(match)"
   ]
  },
  {
   "cell_type": "code",
   "execution_count": 6,
   "metadata": {},
   "outputs": [
    {
     "name": "stdout",
     "output_type": "stream",
     "text": [
      "True\n"
     ]
    }
   ],
   "source": [
    "match = True if pat.findall(\"1test 2test 3test\") else False\n",
    "print(match)"
   ]
  },
  {
   "cell_type": "code",
   "execution_count": 7,
   "metadata": {},
   "outputs": [
    {
     "data": {
      "text/plain": [
       "['test', 'test', 'test']"
      ]
     },
     "execution_count": 7,
     "metadata": {},
     "output_type": "execute_result"
    }
   ],
   "source": [
    "pat.findall(\"1test 2test 3test\")"
   ]
  },
  {
   "cell_type": "code",
   "execution_count": 8,
   "metadata": {},
   "outputs": [
    {
     "name": "stdout",
     "output_type": "stream",
     "text": [
      "<re.Match object; span=(1, 5), match='test'>\n",
      "<re.Match object; span=(8, 12), match='test'>\n",
      "<re.Match object; span=(15, 19), match='test'>\n"
     ]
    }
   ],
   "source": [
    "res = pat.finditer(\"1test 2 test 3 test\")\n",
    "for r in res:\n",
    "    print(r)"
   ]
  },
  {
   "cell_type": "markdown",
   "metadata": {},
   "source": [
    "### __findall vs finditer__\n",
    "- finditer를 사용하면 매치된 패턴의 인덱스까지 알 수 있음\n",
    "- findall을 사용하면 매치된 패턴들을 리스트로 반환"
   ]
  },
  {
   "cell_type": "code",
   "execution_count": 9,
   "metadata": {},
   "outputs": [],
   "source": [
    "res = pat.match(\"mypython\")"
   ]
  },
  {
   "cell_type": "code",
   "execution_count": 10,
   "metadata": {},
   "outputs": [
    {
     "name": "stdout",
     "output_type": "stream",
     "text": [
      "mypython\n",
      "0\n",
      "8\n",
      "(0, 8)\n"
     ]
    }
   ],
   "source": [
    "print(res.group()) #매치된 문자열 리턴\n",
    "print(res.start()) #매치된 문자열 시작위치\n",
    "print(res.end())   #매치된 문자열 끝위치 \n",
    "print(res.span())  #(시작, 끝)"
   ]
  },
  {
   "cell_type": "code",
   "execution_count": 11,
   "metadata": {},
   "outputs": [
    {
     "name": "stdout",
     "output_type": "stream",
     "text": [
      "<re.Match object; span=(2, 8), match='python'>\n"
     ]
    }
   ],
   "source": [
    "res2 = pat.search(\"7 python\")\n",
    "print(res2)"
   ]
  },
  {
   "cell_type": "code",
   "execution_count": 12,
   "metadata": {},
   "outputs": [
    {
     "name": "stdout",
     "output_type": "stream",
     "text": [
      "<re.Match object; span=(0, 1), match='1'>\n",
      "<re.Match object; span=(0, 4), match='1234'>\n",
      "<re.Match object; span=(0, 4), match='1234'>\n",
      "<re.Match object; span=(0, 4), match='1234'>\n",
      "<re.Match object; span=(0, 4), match='1234'>\n",
      "<re.Match object; span=(0, 4), match='1234'>\n"
     ]
    }
   ],
   "source": [
    "print(re.match(\"[0-9]\", \"1234\"))\n",
    "print(re.match(\"[0-9]*\", \"1234\"))\n",
    "print(re.match(\"[0-9]+\", \"1234\"))\n",
    "\n",
    "print(re.match(\"\\d*\", \"1234\"))\n",
    "print(re.match(\"\\d+\", \"1234\"))\n",
    "print(re.match(\"\\d{4}\", \"1234\"))"
   ]
  },
  {
   "cell_type": "code",
   "execution_count": 13,
   "metadata": {},
   "outputs": [
    {
     "name": "stdout",
     "output_type": "stream",
     "text": [
      "None\n",
      "None\n",
      "<re.Match object; span=(0, 1), match='b'>\n",
      "<re.Match object; span=(0, 1), match='b'>\n",
      "<re.Match object; span=(0, 4), match='aaab'>\n"
     ]
    }
   ],
   "source": [
    "print(re.match(\"a*b\", \"a\"))\n",
    "print(re.match(\"a+b\", \"b\"))\n",
    "print(re.match(\"a*b\", \"b\"))\n",
    "print(re.match(\"a?b\", \"b\"))\n",
    "print(re.match(\"a+b\", \"aaab\"))"
   ]
  },
  {
   "cell_type": "code",
   "execution_count": 14,
   "metadata": {},
   "outputs": [
    {
     "data": {
      "text/plain": [
       "<re.Match object; span=(0, 13), match='010-6291-8015'>"
      ]
     },
     "execution_count": 14,
     "metadata": {},
     "output_type": "execute_result"
    }
   ],
   "source": [
    "### Examples\n",
    "# Create a regular expression that matches a phone number\n",
    "re.match(\"[0-9]{3}-[0-9]{4}-[0-9]{4}$\", \"010-6291-8015\")\n",
    "    \n",
    "# 2 or 3 digits - 3 or 4 digits - 4 digits\n",
    "re.match(\"[0-9]{2,3}-[0-9]{3,4}-[0-9]{4}\", \"010-6291-8015\")"
   ]
  },
  {
   "cell_type": "code",
   "execution_count": 15,
   "metadata": {},
   "outputs": [
    {
     "data": {
      "text/plain": [
       "<re.Match object; span=(0, 9), match='Hello1234'>"
      ]
     },
     "execution_count": 15,
     "metadata": {},
     "output_type": "execute_result"
    }
   ],
   "source": [
    "re.match(\"\\w*\\d*\", \"Hello1234\")"
   ]
  },
  {
   "cell_type": "code",
   "execution_count": 16,
   "metadata": {},
   "outputs": [
    {
     "data": {
      "text/plain": [
       "<re.Match object; span=(0, 1), match='H'>"
      ]
     },
     "execution_count": 16,
     "metadata": {},
     "output_type": "execute_result"
    }
   ],
   "source": [
    "re.match(\"[A-Z]+\", \"Hello\")"
   ]
  },
  {
   "cell_type": "code",
   "execution_count": 17,
   "metadata": {},
   "outputs": [
    {
     "data": {
      "text/plain": [
       "<re.Match object; span=(0, 5), match='Hello'>"
      ]
     },
     "execution_count": 17,
     "metadata": {},
     "output_type": "execute_result"
    }
   ],
   "source": [
    "re.match(\"^[A-z]+\", \"Hello\")"
   ]
  },
  {
   "cell_type": "code",
   "execution_count": 18,
   "metadata": {},
   "outputs": [
    {
     "data": {
      "text/plain": [
       "<re.Match object; span=(2, 4), match='**'>"
      ]
     },
     "execution_count": 18,
     "metadata": {},
     "output_type": "execute_result"
    }
   ],
   "source": [
    "re.search(\"\\*+\",\"1 ** 2\")"
   ]
  },
  {
   "cell_type": "code",
   "execution_count": 19,
   "metadata": {},
   "outputs": [
    {
     "data": {
      "text/plain": [
       "<re.Match object; span=(0, 7), match='$(test)'>"
      ]
     },
     "execution_count": 19,
     "metadata": {},
     "output_type": "execute_result"
    }
   ],
   "source": [
    "re.match(\"[$()a-z]+\", \"$(test)\")"
   ]
  },
  {
   "cell_type": "code",
   "execution_count": 20,
   "metadata": {},
   "outputs": [
    {
     "name": "stdout",
     "output_type": "stream",
     "text": [
      "<re.Match object; span=(0, 9), match='hello_123'>\n",
      "<re.Match object; span=(0, 4), match='(!@#'>\n"
     ]
    }
   ],
   "source": [
    "# \\w : returns a match where the string contains characters, digits, _\n",
    "# \\w : NOT\n",
    "\n",
    "print(re.match(\"\\w+\", \"hello_123\"))\n",
    "print(re.search(\"\\W+\", \"(!@#_)\"))"
   ]
  },
  {
   "cell_type": "code",
   "execution_count": 21,
   "metadata": {},
   "outputs": [
    {
     "name": "stdout",
     "output_type": "stream",
     "text": [
      "<re.Match object; span=(0, 5), match='Hello'>\n",
      "<re.Match object; span=(0, 9), match='Hello 123'>\n",
      "<re.Match object; span=(0, 1), match='H'>\n"
     ]
    }
   ],
   "source": [
    "# whitespace\n",
    "print(re.match(\"[A-z0-9]+\", \"Hello 123\"))\n",
    "print(re.match(\"[A-z0-9 ]+\", \"Hello 123\"))\n",
    "\n",
    "# \\s : returns a match where the string contains a whitespace character\n",
    "# \\S : NOT\n",
    "print(re.match(\"[A-z0-9\\s]\", \"Hello 123\"))\n"
   ]
  },
  {
   "cell_type": "markdown",
   "metadata": {},
   "source": [
    "### Named Groups and Backreferences\n",
    "- Syntax\n",
    "    - Named capturing group\n",
    "        - `(?P<name>regex)`\n",
    "    - Named backreference syntax\n",
    "        - `(?P=name)`"
   ]
  },
  {
   "cell_type": "code",
   "execution_count": 22,
   "metadata": {},
   "outputs": [
    {
     "name": "stdout",
     "output_type": "stream",
     "text": [
      "__init__ ['a', 'b', 'c']\n"
     ]
    }
   ],
   "source": [
    "# Example : check if the function name is valid or not\n",
    "\n",
    "r = re.match(\"(?P<fn>[A-z_]\\w+)\\((?P<arg>[\\,\\w ]*)\\)\", \"__init__(a, b, c)\")\n",
    "f_name = r.group('fn')\n",
    "parameters = r.group('arg').split(\", \")\n",
    "print(f_name, parameters)"
   ]
  },
  {
   "cell_type": "markdown",
   "metadata": {},
   "source": [
    "### re.sub()\n",
    "- 매칭된 문자열을 원하는 값으로 치환\n",
    "- syntax\n",
    "    - `re.sub(pattern, repl, string, count=0, flags=0)`\n",
    "    - repl: string or function\n",
    "    - count: 바꿀 문자열의 갯수\n",
    "    - flags: 상수 (re.IGNORECASE, ...)\n",
    "    \n",
    "```python\n",
    "re.sub(\"우리나라|한국|대한민국|남한|코리아|South Korea\", \"대한민국\", \"대한민국, 한국 코리아\")\n",
    "\n",
    "# output : '대한민국, 대한민국 대한민국'\n",
    "```"
   ]
  },
  {
   "cell_type": "code",
   "execution_count": 23,
   "metadata": {},
   "outputs": [
    {
     "data": {
      "text/plain": [
       "'num 2 three 4 50 600 seven'"
      ]
     },
     "execution_count": 23,
     "metadata": {},
     "output_type": "execute_result"
    }
   ],
   "source": [
    "# 숫자만 모두 찾아서 문자열 \"num\"으로 변경 \n",
    "s = \"1 2 three 4 50 600 seven\"\n",
    "\n",
    "re.sub(\"[0-9]+\", \"num\", s, count=1)"
   ]
  },
  {
   "cell_type": "code",
   "execution_count": 24,
   "metadata": {},
   "outputs": [
    {
     "data": {
      "text/plain": [
       "'10 20 three 40 500 6000 seven'"
      ]
     },
     "execution_count": 24,
     "metadata": {},
     "output_type": "execute_result"
    }
   ],
   "source": [
    "def mul10(arg):\n",
    "    res = int(arg.group()) * 10\n",
    "    return str(res)\n",
    "\n",
    "re.sub(\"[0-9]+\", mul10, s)"
   ]
  }
 ],
 "metadata": {
  "kernelspec": {
   "display_name": "Python 3",
   "language": "python",
   "name": "python3"
  },
  "language_info": {
   "codemirror_mode": {
    "name": "ipython",
    "version": 3
   },
   "file_extension": ".py",
   "mimetype": "text/x-python",
   "name": "python",
   "nbconvert_exporter": "python",
   "pygments_lexer": "ipython3",
   "version": "3.8.3"
  }
 },
 "nbformat": 4,
 "nbformat_minor": 4
}
