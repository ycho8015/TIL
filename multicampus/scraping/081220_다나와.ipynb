{
 "cells": [
  {
   "cell_type": "code",
   "execution_count": 233,
   "metadata": {},
   "outputs": [],
   "source": [
    "import pandas as pd\n",
    "from selenium import webdriver\n",
    "from bs4 import BeautifulSoup as BS\n",
    "\n",
    "url = \"http://search.danawa.com/dsearch.php?query=%EB%AC%B4%EC%84%A0%EC%B2%AD%EC%86%8C%EA%B8%B0&tab=main\"\n",
    "# 브라우저 세션 자동화\n",
    "driver = webdriver.Chrome(\"/Users/yoon/.selenium-drivers/chromedriver\")\n",
    "\n",
    "# 주어진 url로 이동한다\n",
    "driver.get(url)\n",
    "\n",
    "# 현재 페이지 소스를 가져온다\n",
    "html = driver.page_source\n",
    "\n",
    "# soup object: parsed document\n",
    "soup = BS(html, \"html.parser\")"
   ]
  },
  {
   "cell_type": "code",
   "execution_count": 240,
   "metadata": {},
   "outputs": [],
   "source": [
    "def get_prod_items(prodduct):\n",
    "    prod_dicts = {\n",
    "        \"상품명\": [],\n",
    "        \"상세_스펙\": [],\n",
    "        \"가격\": []\n",
    "    }\n",
    "\n",
    "    for prod in products:\n",
    "        try:\n",
    "            prod_dicts[\"상품명\"].append(prod.select(\"p.prod_name > a\")[0].text.strip())\n",
    "        except:\n",
    "            prod_dicts[\"상품명\"].append(\"\")\n",
    "        \n",
    "        try:\n",
    "            prod_dicts[\"상세_스펙\"].append(prod.select(\"div.spec_list\")[0].text.strip())\n",
    "        except:\n",
    "            prod_dicts[\"상세_스펙\"].append(\"\")\n",
    "            \n",
    "        try:\n",
    "            prod_dicts[\"가격\"].append(prod.select(\"p.price_sect > a > strong\")[0].text.strip())\n",
    "        except:\n",
    "            prod_dicts[\"가격\"].append(0)\n",
    "        \n",
    "    return prod_dicts"
   ]
  },
  {
   "cell_type": "code",
   "execution_count": 241,
   "metadata": {},
   "outputs": [],
   "source": [
    "products = soup.select(\"div.main_prodlist.main_prodlist_list > ul[class='product_list'] > li.prod_item\")"
   ]
  },
  {
   "cell_type": "code",
   "execution_count": 242,
   "metadata": {},
   "outputs": [],
   "source": [
    "def get_search_page_url(keyword, page):\n",
    "    return (\"http://search.danawa.com/dsearch.php\"\n",
    "            + \"?query=\"\n",
    "            + keyword\n",
    "            + \"&volumeType=allvs\"\n",
    "            + \"&page=\"\n",
    "            + str(page)\n",
    "            + \"&limit=40\"\n",
    "            + \"&sort=saveDESC\"\n",
    "            + \"&list=list\"\n",
    "            + \"&boost=true\"\n",
    "            + \"&addDelivery=N\"\n",
    "            + \"&tab=goods\")"
   ]
  },
  {
   "cell_type": "markdown",
   "metadata": {},
   "source": [
    "## 진행상황 출력하기\n",
    "* tqdm module"
   ]
  },
  {
   "cell_type": "code",
   "execution_count": 243,
   "metadata": {},
   "outputs": [
    {
     "name": "stderr",
     "output_type": "stream",
     "text": [
      "<ipython-input-243-48e257b279f3>:10: TqdmDeprecationWarning: This function will be removed in tqdm==5.0.0\n",
      "Please use `tqdm.notebook.tqdm` instead of `tqdm.tqdm_notebook`\n",
      "  for page in tqdm_notebook(range(1, total_page + 1)):\n"
     ]
    },
    {
     "data": {
      "application/vnd.jupyter.widget-view+json": {
       "model_id": "0c15a0370a0a4b7b9bfe3aa695251a6d",
       "version_major": 2,
       "version_minor": 0
      },
      "text/plain": [
       "HBox(children=(FloatProgress(value=0.0, max=10.0), HTML(value='')))"
      ]
     },
     "metadata": {},
     "output_type": "display_data"
    },
    {
     "name": "stdout",
     "output_type": "stream",
     "text": [
      "\n"
     ]
    }
   ],
   "source": [
    "from time import sleep\n",
    "from tqdm import tqdm_notebook\n",
    "\n",
    "driver = webdriver.Chrome(\"/Users/yoon/.selenium-drivers/chromedriver\")\n",
    "keyword = \"무선청소기\"\n",
    "total_page = 10\n",
    "products_df = pd.DataFrame(columns=['상품명', '상세_스펙', '가격'])\n",
    "\n",
    "# 진행 상황 출력\n",
    "for page in tqdm_notebook(range(1, total_page + 1)):\n",
    "    url = get_search_page_url(keyword, page)\n",
    "    driver.get(url)\n",
    "    sleep(2)\n",
    "    \n",
    "    html = driver.page_source\n",
    "    soup = BS(html, \"html.parser\")\n",
    "    products = soup.select(\"div.main_prodlist.main_prodlist_list > ul[class='product_list'] > li.prod_item\")\n",
    "    df = pd.DataFrame(get_prod_items(products))\n",
    "    products_df = products_df.append(df, ignore_index=True)\n"
   ]
  },
  {
   "cell_type": "code",
   "execution_count": 244,
   "metadata": {
    "scrolled": true
   },
   "outputs": [
    {
     "data": {
      "text/html": [
       "<div>\n",
       "<style scoped>\n",
       "    .dataframe tbody tr th:only-of-type {\n",
       "        vertical-align: middle;\n",
       "    }\n",
       "\n",
       "    .dataframe tbody tr th {\n",
       "        vertical-align: top;\n",
       "    }\n",
       "\n",
       "    .dataframe thead th {\n",
       "        text-align: right;\n",
       "    }\n",
       "</style>\n",
       "<table border=\"1\" class=\"dataframe\">\n",
       "  <thead>\n",
       "    <tr style=\"text-align: right;\">\n",
       "      <th></th>\n",
       "      <th>상품명</th>\n",
       "      <th>상세_스펙</th>\n",
       "      <th>가격</th>\n",
       "    </tr>\n",
       "  </thead>\n",
       "  <tbody>\n",
       "    <tr>\n",
       "      <th>119</th>\n",
       "      <td>LG전자 코드제로 A9 A930</td>\n",
       "      <td>핸디/스틱청소기 / 핸디+스틱형 / 무선형 / 헤파필터 / 2중터보싸이클론 / 5단...</td>\n",
       "      <td>일시품절</td>\n",
       "    </tr>\n",
       "    <tr>\n",
       "      <th>359</th>\n",
       "      <td>트윈버드 TC-E123SBK</td>\n",
       "      <td>핸디/스틱청소기 / 핸디+스틱형 / 무선형 / 싸이클론 / 흡입력: 70W / 브러...</td>\n",
       "      <td>일시품절</td>\n",
       "    </tr>\n",
       "  </tbody>\n",
       "</table>\n",
       "</div>"
      ],
      "text/plain": [
       "                   상품명                                              상세_스펙  \\\n",
       "119  LG전자 코드제로 A9 A930  핸디/스틱청소기 / 핸디+스틱형 / 무선형 / 헤파필터 / 2중터보싸이클론 / 5단...   \n",
       "359    트윈버드 TC-E123SBK  핸디/스틱청소기 / 핸디+스틱형 / 무선형 / 싸이클론 / 흡입력: 70W / 브러...   \n",
       "\n",
       "       가격  \n",
       "119  일시품절  \n",
       "359  일시품절  "
      ]
     },
     "execution_count": 244,
     "metadata": {},
     "output_type": "execute_result"
    }
   ],
   "source": [
    "products_df.loc[products_df['가격'] == '일시품절']"
   ]
  },
  {
   "cell_type": "code",
   "execution_count": 245,
   "metadata": {},
   "outputs": [],
   "source": [
    "products_df.drop(products_df[products_df['가격'] == '일시품절'].index, inplace=True)"
   ]
  },
  {
   "cell_type": "code",
   "execution_count": 246,
   "metadata": {},
   "outputs": [],
   "source": [
    "products_df['가격'] = products_df['가격'].str.replace(',','').astype(int)"
   ]
  },
  {
   "cell_type": "code",
   "execution_count": 249,
   "metadata": {},
   "outputs": [],
   "source": [
    "products_df.sort_values(by='가격', inplace=True)\n",
    "products_df.reset_index(drop=True, inplace=True)\n",
    "products_df.to_excel(\"danawa_crawling_result.xlsx\", index=False)"
   ]
  },
  {
   "cell_type": "code",
   "execution_count": 250,
   "metadata": {},
   "outputs": [
    {
     "name": "stdout",
     "output_type": "stream",
     "text": [
      "<class 'pandas.core.frame.DataFrame'>\n",
      "RangeIndex: 398 entries, 0 to 397\n",
      "Data columns (total 3 columns):\n",
      " #   Column  Non-Null Count  Dtype \n",
      "---  ------  --------------  ----- \n",
      " 0   상품명     398 non-null    object\n",
      " 1   상세_스펙   398 non-null    object\n",
      " 2   가격      398 non-null    int64 \n",
      "dtypes: int64(1), object(2)\n",
      "memory usage: 9.5+ KB\n"
     ]
    }
   ],
   "source": [
    "products_df.info()"
   ]
  },
  {
   "cell_type": "markdown",
   "metadata": {},
   "source": [
    "## 데이터 전처리"
   ]
  },
  {
   "cell_type": "code",
   "execution_count": 251,
   "metadata": {},
   "outputs": [],
   "source": [
    "data = pd.read_excel(\"danawa_crawling_result.xlsx\")"
   ]
  },
  {
   "cell_type": "code",
   "execution_count": 252,
   "metadata": {},
   "outputs": [
    {
     "data": {
      "text/html": [
       "<div>\n",
       "<style scoped>\n",
       "    .dataframe tbody tr th:only-of-type {\n",
       "        vertical-align: middle;\n",
       "    }\n",
       "\n",
       "    .dataframe tbody tr th {\n",
       "        vertical-align: top;\n",
       "    }\n",
       "\n",
       "    .dataframe thead th {\n",
       "        text-align: right;\n",
       "    }\n",
       "</style>\n",
       "<table border=\"1\" class=\"dataframe\">\n",
       "  <thead>\n",
       "    <tr style=\"text-align: right;\">\n",
       "      <th></th>\n",
       "      <th>상품명</th>\n",
       "      <th>상세_스펙</th>\n",
       "      <th>가격</th>\n",
       "    </tr>\n",
       "  </thead>\n",
       "  <tbody>\n",
       "    <tr>\n",
       "      <th>0</th>\n",
       "      <td>USB 미니청소기</td>\n",
       "      <td>핸디/스틱청소기 / 핸디형 / 무선형 / 색상:블랙 / USB충전식</td>\n",
       "      <td>5000</td>\n",
       "    </tr>\n",
       "    <tr>\n",
       "      <th>1</th>\n",
       "      <td>유니맥스 UVC-1688</td>\n",
       "      <td>핸디/스틱청소기 / 핸디형 / 무선형 / 전압: 6V / 싸이클론 / 충전시간: 1...</td>\n",
       "      <td>16840</td>\n",
       "    </tr>\n",
       "    <tr>\n",
       "      <th>2</th>\n",
       "      <td>ZHENHUI 미니 진공 차량용 무선 청소기 (해외구매)</td>\n",
       "      <td>차량용청소기 / 무선 / 흡입력: 6,000Pa / 최대출력: 120W / 헤파필터...</td>\n",
       "      <td>18710</td>\n",
       "    </tr>\n",
       "    <tr>\n",
       "      <th>3</th>\n",
       "      <td>카스 오토스핀 HS-700</td>\n",
       "      <td>핸디/스틱청소기 / 핸디형 / 무선형 / 충전시간: 9시간 / 색상:블루</td>\n",
       "      <td>19400</td>\n",
       "    </tr>\n",
       "    <tr>\n",
       "      <th>4</th>\n",
       "      <td>듀플렉스 DP-485VC</td>\n",
       "      <td>핸디/스틱청소기 / 핸디형 / 무선형 / 전압: 4.8V / 2단계여과 / 브러쉬:...</td>\n",
       "      <td>21070</td>\n",
       "    </tr>\n",
       "  </tbody>\n",
       "</table>\n",
       "</div>"
      ],
      "text/plain": [
       "                               상품명  \\\n",
       "0                        USB 미니청소기   \n",
       "1                    유니맥스 UVC-1688   \n",
       "2  ZHENHUI 미니 진공 차량용 무선 청소기 (해외구매)   \n",
       "3                   카스 오토스핀 HS-700   \n",
       "4                    듀플렉스 DP-485VC   \n",
       "\n",
       "                                               상세_스펙     가격  \n",
       "0              핸디/스틱청소기 / 핸디형 / 무선형 / 색상:블랙 / USB충전식   5000  \n",
       "1  핸디/스틱청소기 / 핸디형 / 무선형 / 전압: 6V / 싸이클론 / 충전시간: 1...  16840  \n",
       "2  차량용청소기 / 무선 / 흡입력: 6,000Pa / 최대출력: 120W / 헤파필터...  18710  \n",
       "3           핸디/스틱청소기 / 핸디형 / 무선형 / 충전시간: 9시간 / 색상:블루  19400  \n",
       "4  핸디/스틱청소기 / 핸디형 / 무선형 / 전압: 4.8V / 2단계여과 / 브러쉬:...  21070  "
      ]
     },
     "execution_count": 252,
     "metadata": {},
     "output_type": "execute_result"
    }
   ],
   "source": [
    "data.head()"
   ]
  },
  {
   "cell_type": "code",
   "execution_count": 261,
   "metadata": {},
   "outputs": [
    {
     "name": "stdout",
     "output_type": "stream",
     "text": [
      "['USB', '미니청소기']\n",
      "['유니맥스', 'UVC-1688']\n",
      "['ZHENHUI', '미니 진공 차량용 무선 청소기 (해외구매)']\n",
      "['카스', '오토스핀 HS-700']\n",
      "['듀플렉스', 'DP-485VC']\n",
      "['홍진테크', 'AT-H12V']\n",
      "['LG전자', 'V-S300C']\n",
      "['차량용', '무선 건습식 청소기 (해외구매)']\n",
      "['루베크', 'CM-268']\n",
      "['마이프랜드', 'MTU-188C']\n",
      "['대웅모닝컴', 'DWVC-AC800KP']\n",
      "['듀플렉스', 'DP-480VC']\n",
      "['샤오미', 'SHUNZAO 차량용 무선청소기 2세대 Z1 (해외구매)']\n",
      "['미라스', 'FX-178VC']\n",
      "['신일산업', 'SVC-680G']\n",
      "['비바', '2017-SC01']\n",
      "['흥진테크', 'SGC-399AA']\n",
      "['CNON', ' 무선 핸디 청소기 XCBYD (해외구매)']\n",
      "['샤오미', '이지에 YE-01']\n",
      "['신일산업', 'SVC-D900RK']\n",
      "['마끼다', 'CL100DZ']\n",
      "['유니맥스', 'UVC-1685A']\n",
      "['머레이', '핸디형 무선청소기 HK-6030']\n",
      "['신일산업', 'SVC-S500YT']\n",
      "['신일산업', 'SVC-650SG']\n",
      "['삼성전자', 'VC-H20']\n",
      "['삼성전자', 'VC-H22']\n",
      "['SUNAEssi', 'CZ-S567WM']\n",
      "['신일산업', 'SVC-4807SG']\n",
      "['마끼다', 'DCL180Z']\n",
      "['신일산업', 'SVC-SHS500']\n",
      "['신일산업', 'SVC-1316R']\n",
      "['디엔', '무선 물걸레 청소기']\n",
      "['이나프', 'ILVH-2000']\n",
      "['보만', 'VC7210']\n",
      "['라이프썸', 'LFS-HA04']\n",
      "['보쉬', 'GAS10.8V-LI']\n",
      "['신일산업', 'SVC-D950GK']\n",
      "['idam', '701B1']\n",
      "['신일산업', 'SVC-S4800SJ']\n",
      "['마이크로스톤', '블랙샤크']\n",
      "['무궁화전자', '바로바로 MC-B250']\n",
      "['보만', 'VC7211']\n",
      "['서주글로벌', '더존 무선 핸디 자동차 청소기 DK-X111']\n",
      "['엔뚜마노', '이지투웍 EM-2800W']\n",
      "['신일산업', 'SVC-488WS']\n",
      "['무선', '차량용 청소기 V02 PLUS']\n",
      "['보만', 'VC7212']\n",
      "['샤오미', 'COCLEAN 차량용 무선 청소기']\n",
      "['아로나전자', 'AL-3300NF']\n",
      "['일렉트로룩스', '라피도 ZB5106']\n",
      "['삼성전자', 'VC-H71']\n",
      "['신일산업', 'SVC-G60YHJ']\n",
      "['한경희생활과학', 'VH-400WT']\n",
      "['아이코넬', '차량용 청소기 ICL-V01']\n",
      "['샤오미', 'SHUNZAO 차량용 무선청소기 2세대 Z1 PRO (해외구매)']\n",
      "['저스트원', 'SN-XR330V']\n",
      "['티피오스', '디제로 D2']\n",
      "['홈마블', 'H80']\n",
      "['라우쉬', 'LSBC-6000']\n",
      "['BDC', '벨라']\n",
      "['보랄', '큐텐 BR-Q390RV']\n",
      "['마끼다', 'DCL181']\n",
      "['마끼다', 'CL106FD']\n",
      "['아로나전자', 'AL-6200R']\n",
      "['마끼다', 'DCL182ZW']\n",
      "['ABKO', '오엘라 네오스핀 OBC-AW09WH']\n",
      "['훠링', '미니 무선 청소기']\n",
      "['오아', '클린보틀 차량용 청소기 OA-CL002']\n",
      "['HANFUREN', 'VC806']\n",
      "['지웰', 'ST-007']\n",
      "['대웅모닝컴', 'DWVC-DC1630WS']\n",
      "['혼스', '차량 무선 진공 청소기 HSCC-8000']\n",
      "['아로나전자', 'AVC-2600V']\n",
      "['대웅모닝컴', 'DWVC-DC9180KP']\n",
      "['샤오미', 'SWDK KC101']\n",
      "['샤오미', '디어마 VC20S']\n",
      "['유행코리아', '더쎈 유무선 청소기']\n",
      "['샤오미', '차량용 청소기 무선 3세대 (해외구매)']\n",
      "['아이룸', 'ASC-079']\n",
      "['솔리스', 'AIR651V']\n",
      "['모리츠', 'MO-BCL700']\n",
      "['로엘', '듀스핀2']\n",
      "['엔뚜마노', 'EV-DC1500']\n",
      "['썬리빙', 'NS-WV1000']\n",
      "['던디', 'TMS-5000']\n",
      "['일렉트로룩스', 'ZB6106']\n",
      "['BDC', '얼티메이트']\n",
      "['블랙앤데커', 'PD1200']\n",
      "['대웅모닝컴', 'DWV-DC520WS']\n",
      "['메가비타', 'MV90']\n",
      "['샤오미', 'FIXNOW XYQX-300E']\n",
      "['에이스전자', 'AVG-TK9400BT']\n",
      "['일렉트로룩스', '라피도 ZB6106WD']\n",
      "['일럭스고', 'SVC-1019L']\n",
      "['테팔', '에어포스 TY8479']\n",
      "['DIBEA', 'DW200']\n",
      "['삼성전자', 'VC-PS86']\n",
      "['보쉬', 'GAS18V-1']\n",
      "['인트비즈', '모런 싸이클론 차량용 무선 청소기 V2']\n",
      "['이나프', 'ILVH-7000']\n",
      "['보랄', 'BR-RV770-BT']\n",
      "['유니맥스', 'UVC-1891P']\n",
      "['유니맥스', '블랙라벨 UVC-1819B']\n",
      "['일렉트로룩스', '라피도 ZB6108']\n",
      "['삼성전자', 'VC-PS85']\n",
      "['스마트빔', 'WIN-7200VC']\n",
      "['한경희생활과학', 'VS-1000WT']\n",
      "['블랙앤데커', 'PV1820C']\n",
      "['한경희생활과학', 'SM-2000']\n",
      "['일렉트로룩스', 'ZB6114']\n",
      "['오아', 'OA-CL010']\n",
      "['좋은생활지웰', 'GWELL-501']\n",
      "['카렉스', '파워스톰 미니 무선청소기']\n",
      "['샤오미', 'WXCDJ01SWDK']\n",
      "['DIBEA', 'D008 프로']\n",
      "['DIBEA', 'V008 프로']\n",
      "['무궁화전자', '바로바로 MHC-810']\n",
      "['킴스아이엔씨', '바스웰 KSC-5000']\n",
      "['이나프', 'VH-1600']\n",
      "['블랙앤데커', 'PV1820BK']\n",
      "['신일산업', 'SVC-PB195BUP']\n",
      "['블랙앤데커', 'PV1820CEXT']\n",
      "['DIBEA', 'D18 플러스']\n",
      "['DIBEA', 'D18']\n",
      "['홈마블', 'H80BL']\n",
      "['이스타', 'EST-VX100']\n",
      "['샤오미', '드리미 CC']\n",
      "['신일산업', '롤링스턴 SVC-C1012WS']\n",
      "['블랙앤데커', 'TPD1810BGEXT']\n",
      "['듀플렉스', 'DP-V1']\n",
      "['DIBEA', 'P20 MAX']\n",
      "['원더스리빙', '원더스 다이나킹 Z4']\n",
      "['블랙앤데커', 'TPV1820RAC']\n",
      "['스위스밀리터리', 'SMA-WV850D']\n",
      "['샤오미', 'LEKONG 고압세척기']\n",
      "['샤오미', 'CX-1']\n",
      "['제로홈', 'S7']\n",
      "['삼성전자', 'VC-LSS95']\n",
      "['보쉬', 'GAS18V-10L']\n",
      "['아이룸', 'UC-81']\n",
      "['이마트', '일렉트로맨 HS103']\n",
      "['디스코즈', 'HANDY']\n",
      "['신일산업', 'SVC-DC2200SK']\n",
      "['신일산업', 'SVC-PB220WU']\n",
      "['DIBEA', 'Z10 프로']\n",
      "['샤오미', 'SWDK-D260']\n",
      "['오토싱', 'OTOCINC-700B']\n",
      "['SAND', 'FUTURE QC250']\n",
      "['원더스리빙', '원더스 다이나킹 Z7']\n",
      "['SINOLINK', 'DM-V09']\n",
      "['한샘', 'HSBC-6000W']\n",
      "['AIKIA', '맥스 VC-168']\n",
      "['DIBEA', 'F6']\n",
      "['EUP', 'VH806']\n",
      "['아이룸', 'AST-009P']\n",
      "['보랄', 'BR-SV380RC']\n",
      "['아이룸', 'D-10']\n",
      "['애니스', 'JB2000']\n",
      "['아이룸', 'AST-009']\n",
      "['경성오토비스', '오토맙 A5-5000']\n",
      "['툴앤툴', '네오스틱 T1']\n",
      "['스마트에버', 'S250W']\n",
      "['롯데알미늄', '롯데이라이프 L282']\n",
      "['블랙앤데커', 'PD1810BEXT']\n",
      "['밀워키', 'M18 CV-0']\n",
      "['일렉트로룩스', 'ZB3301']\n",
      "['휴스톰', 'HS-9200SV']\n",
      "['경성오토비스', 'KAC-7100']\n",
      "['SK매직', 'VCL-WA10']\n",
      "['일렉트로룩스', '에르고라피도 ZB3104']\n",
      "['DIBEA', '에이스 맥스']\n",
      "['DIBEA', 'NEW X10']\n",
      "['차량용', '애니스 초강력  핸디 청소기 JB14P']\n",
      "['테팔', '에어포스 라이트 TY6545KL']\n",
      "['테팔', '에어포스 라이트 TY6544']\n",
      "['경성오토비스', 'KAC-5500']\n",
      "['경성오토비스', 'KAC-7000']\n",
      "['밀워키', 'M18 VC-2-0']\n",
      "['휴스톰', 'HS-9000']\n",
      "['델로라', 'V11 파워 300W']\n",
      "['일렉트로룩스', 'ZB3302AK']\n",
      "['샤오미', '디어마 VC10']\n",
      "['이나프', 'ILVH-7500']\n",
      "['DIBEA', 'NEW F7 플러스']\n",
      "['지웰', '벤투스 아쿠아+ST-9500+GWELL-2004']\n",
      "['한경희생활과학', '아쿠아젯 AM-5600BM']\n",
      "['한경희생활과학', '아쿠아젯 RC-3500']\n",
      "['휴스톰', 'HS-10000']\n",
      "['일렉트로룩스', '에르고라피도 클래식 ZB3501EB']\n",
      "['테팔', '에어포스 익스트림 사일런스 TY8949']\n",
      "['신일산업', 'SVC-D180BLDC']\n",
      "['롯데알미늄', 'LS292']\n",
      "['신일', 'SVC-ECO150']\n",
      "['휴스톰', 'HS-9600']\n",
      "['제로홈', 'S9']\n",
      "['샤오미', 'SHUNZAO Z11']\n",
      "['웍스', 'WG630E']\n",
      "['삼성전자', '파워스틱 VS60M6010KG']\n",
      "['아이룸', 'RS1']\n",
      "['벤하임코리아', '메탈로스 BMC-120']\n",
      "['워니코프', '콘일렉트릭 V1']\n",
      "['DIBEA', 'NEW F7']\n",
      "['샤오미', '드리미 V8']\n",
      "['엑타코', 'E7']\n",
      "['일렉트로룩스', 'ZB3311']\n",
      "['캐치웰', 'CX11']\n",
      "['캐치웰', 'CV8 LIGHT']\n",
      "['DIBEA', 'D20']\n",
      "['샤오미', '드리미 V10']\n",
      "['샤크', 'EVO POWER PLUS']\n",
      "['샤오미', 'SHUNZAO Z11 PRO']\n",
      "['아낙', 'ANA-1930']\n",
      "['샤오미', 'SCWXCQ01RR']\n",
      "['신일산업', 'SVC-8858PNX']\n",
      "['DIBEA', 'NEW S9']\n",
      "['캐치웰', 'VX11']\n",
      "['일렉트로룩스', '에르고라피도 프로 플러스 ZB3113AK']\n",
      "['롯데알미늄', 'LS295']\n",
      "['리빙코리아', '웰스톰 VC150']\n",
      "['DIBEA', 'ALLNEW22000']\n",
      "['신일산업', 'SVC-D450WS']\n",
      "['DIBEA', 'NEW X10 플러스']\n",
      "['일렉트로룩스', '에르고라피도 ZB3316AK']\n",
      "['DIBEA', 'M500 프로']\n",
      "['휴스톰', 'HS-10000W']\n",
      "['한샘', '스톰건 V12 VC-R201']\n",
      "['일렉트로룩스', '에르고라피도 파워프로 ZB3411']\n",
      "['삼성전자', '파워스틱 VS60K6051KW']\n",
      "['아너스', 'R3 125RS']\n",
      "['일렉트로룩스', '에르고라피도 플러스 ZB3106AK']\n",
      "['아이룸', 'i10']\n",
      "['일렉트로룩스', 'ZB3511DB']\n",
      "['휴스톰', 'HS-11000']\n",
      "['캐치웰', 'F8']\n",
      "['일렉트로룩스', '에르고라피도 파워프로 ZB3414AK']\n",
      "['에이스전자', 'AVG-LC9600BT']\n",
      "['테팔', '에어포스360 TY7233KO']\n",
      "['일렉트로룩스', '에르고라피도 ZB3323BO']\n",
      "['테팔', '에어포스 360 TY9037']\n",
      "['샤오미', '드리미 V9P']\n",
      "['일렉트로룩스', '에르고라피도 플러스 ZB3105AK']\n",
      "['DIBEA', 'C17']\n",
      "['샤크', '에보파워플러스 WV260KR']\n",
      "['테팔', '에어포스 TY846']\n",
      "['삼성전자', '파워스틱 VS60K6081KD']\n",
      "['DIBEA', 'TSX-25000A']\n",
      "['스윙', '파워스윙 SWING-8000']\n",
      "['아이닉', 'i20']\n",
      "['캐치웰', '코드엑스']\n",
      "['샤오미', '로이드미 제로']\n",
      "['DIBEA', 'F20 맥스']\n",
      "['일렉트로룩스', '에르고라피도 파워프로 ZB3423BO']\n",
      "['샤오미', 'FG2020']\n",
      "['샤오미', '드리미 V10P']\n",
      "['비브르', '스톰파워 VE30']\n",
      "['지웰', '벤투스 아쿠아']\n",
      "['신일산업', 'SVC-D500SR']\n",
      "['DIBEA', 'X30']\n",
      "['DIBEA', 'M500 퀀텀']\n",
      "['스윙', '파워스윙 SWING 8700-DC']\n",
      "['일렉트로룩스', '에르고라피도 파워프로 ZB3426BL']\n",
      "['에이스전자', 'ARW-C100']\n",
      "['DIBEA', 'PLA25']\n",
      "['테팔', 'TY7231']\n",
      "['일렉트로룩스', '퓨어 Q9 PQ91-2OG']\n",
      "['모온', '오비큠 플러스 이지클린세트']\n",
      "['모온', '오비큠']\n",
      "['캐치웰', 'CV6']\n",
      "['일렉트로룩스', '에르고라피도 ZB3111']\n",
      "['테팔', '에어포스 360 TY9086']\n",
      "['일렉트로룩스', '파워프로 ZB3424BL']\n",
      "['한샘', 'T1']\n",
      "['삼성전자', '파워스틱 VS03R6523J2']\n",
      "['일렉트로룩스', '에르고라피도 파워프로 ZB3416AK']\n",
      "['일렉트로룩스', '퓨어 F9 PF91-5EBF']\n",
      "['테팔', '에어포스360 TY9253']\n",
      "['샤오미', '드리미 V9']\n",
      "['이마트', '일렉트로맨 EMCM-1900']\n",
      "['휴스톰', 'HS-12000W']\n",
      "['샤오미', '드리미 V11']\n",
      "['다이슨', 'V7 트리거']\n",
      "['원더스리빙', '원더스 다이나킹 Z9']\n",
      "['테팔', 'TY8463 + DQC-SM-KB']\n",
      "['일렉트로룩스', '퓨어 F9 PF91-5OGF']\n",
      "['일렉트로룩스', '퓨어 Q9 PQ91-3OB']\n",
      "['삼성전자', '뉴파워건 130']\n",
      "['매직쉐프', 'MEVC-K506B']\n",
      "['일렉트로룩스', '퓨어 Q9 PQ91-3EM']\n",
      "['샤오미', 'DM-FC1001']\n",
      "['카처', 'FC 3D 코드리스']\n",
      "['일렉트로룩스', '울트라파워 ZB5021']\n",
      "['샤오미', '로이드미 넥스 XCQ06RM']\n",
      "['테팔', '에어포스360 라이트 TY5516KJ']\n",
      "['필립스', 'FC6168']\n",
      "['다이슨', 'V7 플러피']\n",
      "['지웰', '벤투스 아쿠아 프로']\n",
      "['레이캅', 'RPC-300']\n",
      "['일렉트로룩스', '퓨어 Q9 PQ91-3BW']\n",
      "['일렉트로룩스', '퓨어 F9 PF91-6BWF']\n",
      "['LG전자', '코드제로 터보2.0 S87GMW']\n",
      "['일렉트로룩스', '퓨어 Q9 PQ92-3EMF']\n",
      "['로보락', 'H6']\n",
      "['필립스', '스피드프로 맥스 FC6822/01']\n",
      "['다이슨', 'V7 플러피 플러스']\n",
      "['샤오미', '로이드미 F8']\n",
      "['일렉트로룩스', '퓨어 Q9 PQ92-3OBF']\n",
      "['다이슨', 'V8 플러피']\n",
      "['기펠', 'ZET-10']\n",
      "['지웰', '벤투스 아쿠아 슈퍼']\n",
      "['일렉트로룩스', '퓨어 Q9 PQ92-3BWF']\n",
      "['삼성전자', '제트 VS20R9043SA']\n",
      "['삼성전자', '제트 VS15R8544S4']\n",
      "['카처', 'FC5 코드리스']\n",
      "['삼성전자', '제트 VS15R8543S1']\n",
      "['삼성전자', '뉴파워건 150']\n",
      "['LG전자', '코드제로 S86']\n",
      "['다이슨', 'V10 모터헤드']\n",
      "['다이슨', 'V8 앱솔루트']\n",
      "['스위스밀리터리', '에어슬림 SMA-BV2200']\n",
      "['다이슨', 'V8 슬림 플러피+']\n",
      "['삼성전자', '제트 VS15R8548S5']\n",
      "['에코백스', '디봇 오즈모 T8 AIVI']\n",
      "['일렉트로룩스', '울트라파워 ZB5022']\n",
      "['삼성전자', '제트 VS20R9044SC']\n",
      "['삼성전자', '제트 VS20R9043QA']\n",
      "['삼성전자', '제트 VS20R9044SA']\n",
      "['삼성전자', '제트 VS20R9044SB']\n",
      "['삼성전자', '제트 VS20R9074S2']\n",
      "['다이슨', 'V8 앱솔루트 플러스']\n",
      "['미로', 'MPW10']\n",
      "['삼성전자', '제트 VS15R8544S4CW']\n",
      "['삼성전자', '제트 VS19R1004BF']\n",
      "['다이슨', 'V10 카본파이버']\n",
      "['LG전자', '코드제로 A9 A938']\n",
      "['다이슨', 'V8 플러피 프로']\n",
      "['다이슨', 'V8 카본파이버']\n",
      "['LG전자', '코드제로 A9 A9200']\n",
      "['다이슨', 'V10 플러피']\n",
      "['삼성전자', '제트 VS15R8577S5']\n",
      "['다이슨', 'V8 앱솔루트 엑스트라']\n",
      "['LG전자', '코드제로 A9S A9300']\n",
      "['삼성전자', '제트 VS15R8548S5CW']\n",
      "['삼성전자', '제트 VS15R8543S1CW']\n",
      "['다이슨', 'V11 컴플리트']\n",
      "['LG전자', '코드제로 A9 A948']\n",
      "['삼성전자', '제트 VS20R9048SB']\n",
      "['삼성전자', '제트 VS20T9248SB']\n",
      "['삼성전자', '제트 VS20R9078S2']\n",
      "['삼성전자', '파워건 150']\n",
      "['삼성전자', '제트 VS15R8577S5CW']\n",
      "['다이슨', 'V11 플러피']\n",
      "['다이슨', 'V10 앱솔루트']\n",
      "['LG전자', '코드제로 A9S A9400']\n",
      "['다이슨', 'V8 앱솔루트 프로']\n",
      "['다이슨', '디지털 슬림 플러피']\n",
      "['삼성전자', '제트 VS20R9078S3']\n",
      "['LG전자', '코드제로 A9S A9370']\n",
      "['삼성전자', '제트 VS20R9074S3']\n",
      "['다이슨', 'V10 앱솔루트 엑스트라']\n",
      "['다이슨', 'V8 애니멀 프로']\n",
      "['다이슨', '디지털 슬림 플러피+']\n",
      "['다이슨', 'V10 앱솔루트 플러스']\n",
      "['LG전자', '코드제로 A9 A947']\n",
      "['삼성전자', '제트 VS20T9278S3']\n",
      "['삼성전자', '제트 VS20R9044SBCS']\n",
      "['다이슨', 'V11 220 에어와트 CF+']\n",
      "['LG전자', '코드제로 T9']\n",
      "['LG전자', '코드제로 A9 A940']\n",
      "['다이슨', 'V6 코드프리 플러스']\n",
      "['LG전자', '코드제로 A9S A9470']\n",
      "['다이슨', 'V8 플러피 헤파']\n",
      "['삼성전자', '제트 VS20T9278S7']\n",
      "['다이슨', 'V11 토탈클린']\n",
      "['LG전자', '코드제로 A9S A9500']\n",
      "['다이슨', 'V11 컴플리트 엑스트라']\n",
      "['LG전자', '코드제로 A9 A950']\n",
      "['삼성전자', '제트 VS20T9279S6']\n",
      "['LG전자', '코드제로 A9 A951']\n",
      "['다이슨', '디지털 슬림 플러피 프로']\n",
      "['LG전자', '코드제로 A9 A958']\n",
      "['LG전자', '코드제로 A9S A9570']\n",
      "['삼성전자', '제트 VS20T9279S6CS']\n",
      "['삼성전자', '제트 VS20R9078S3CS']\n",
      "['삼성전자', '제트 VS20T9278S3CS']\n",
      "['LG전자', '코드제로 A9 A978']\n",
      "['삼성전자', '제트 VS20R9078S2CS']\n",
      "['LG전자', '코드제로 A9S A9700']\n",
      "['다이슨', 'V8 모터헤드 헤파']\n",
      "['삼성전자', '제트 VS20T9278S7CS']\n",
      "['다이슨', 'V11 플러피 엑스트라']\n",
      "['삼성전자', '제트 VS20R9077Q3']\n",
      "['다이슨', 'V11 토크 드라이브+']\n",
      "['LG전자', '코드제로 싸이킹 K94']\n",
      "['삼성전자', '제트 VS20T9277Q3CS']\n",
      "['LG전자', '코드제로 A9 A960']\n",
      "['보아스', 'VO802R']\n",
      "['LG전자', '코드제로 A9 A9579S+R9 R958DA']\n"
     ]
    }
   ],
   "source": [
    "for title in data['상품명']:\n",
    "    print(title.split(\" \", 1))"
   ]
  },
  {
   "cell_type": "code",
   "execution_count": 257,
   "metadata": {
    "scrolled": false
   },
   "outputs": [],
   "source": [
    "company_list, product_list = [], []\n",
    "\n",
    "for product in data['상품명']:\n",
    "    product = product.split(\" \", 1)\n",
    "    company_list.append(product[0])\n",
    "    product_list.append(product[1])"
   ]
  },
  {
   "cell_type": "code",
   "execution_count": 320,
   "metadata": {},
   "outputs": [],
   "source": [
    "import re\n",
    "\n",
    "category_list = []\n",
    "usage_time_list = []\n",
    "suction_power_list = []\n",
    "\n",
    "for spec in data['상세_스펙']:\n",
    "    spec = spec.split(\" / \")\n",
    "    category_list.append(spec[0].strip())\n",
    "    usage_time, suction_power = \"\", \"\"\n",
    "    \n",
    "    for elem in spec:\n",
    "        if re.search(\"사용시간\", elem):\n",
    "            usage_time = elem.split(\":\")[1].strip()\n",
    "        elif re.search(\"흡입력\", elem):\n",
    "            suction_power = elem.split(\":\")[1].strip()\n",
    "            \n",
    "    usage_time_list.append(usage_time)\n",
    "    suction_power_list.append(suction_power)"
   ]
  },
  {
   "cell_type": "code",
   "execution_count": 290,
   "metadata": {},
   "outputs": [
    {
     "name": "stdout",
     "output_type": "stream",
     "text": [
      "398 398 398\n"
     ]
    }
   ],
   "source": [
    "print(len(category_list), len(usage_time_list), len(suction_power_list))"
   ]
  },
  {
   "cell_type": "code",
   "execution_count": null,
   "metadata": {},
   "outputs": [],
   "source": []
  },
  {
   "cell_type": "code",
   "execution_count": 340,
   "metadata": {},
   "outputs": [],
   "source": [
    "temp_dict = {\n",
    "    \"카테고리\": category_list,\n",
    "    \"사용시간\": usage_time_list,\n",
    "    \"흡입력\": suction_power_list\n",
    "}\n",
    "temp = pd.DataFrame(temp_dict)\n"
   ]
  },
  {
   "cell_type": "code",
   "execution_count": 344,
   "metadata": {
    "scrolled": true
   },
   "outputs": [
    {
     "data": {
      "text/plain": [
       "array(['', '20~30분', '20분', '15~18분', '8분', '30분', '15분', '60분', '2시간',\n",
       "       '12분', '9분', '5~10분', '10분', '5분~10분', '25분', '10~15분', '7분',\n",
       "       '16분', '1시간10분', '12~15분', '7~10분', '11분', '1시간40분', '40분', '사용시간',\n",
       "       '50분', '10~12분', '5시간', '35분', '14분', '42분', '23분', '80분', '24분',\n",
       "       '17분', '1시간', '45분', '22분', '13분29초', '18분', '5.0Ah', '1시간20분',\n",
       "       '물걸레', '48분', '12~30분', '1시간30분', '55분', '1시간5분', '1시간6분', '53분',\n",
       "       '65분', '40분(강), 70분(약)', '3시간', '120분', '1시간~1시간30분'], dtype=object)"
      ]
     },
     "execution_count": 344,
     "metadata": {},
     "output_type": "execute_result"
    }
   ],
   "source": [
    "temp[\"사용시간\"].unique()"
   ]
  },
  {
   "cell_type": "code",
   "execution_count": 348,
   "metadata": {},
   "outputs": [
    {
     "data": {
      "text/html": [
       "<div>\n",
       "<style scoped>\n",
       "    .dataframe tbody tr th:only-of-type {\n",
       "        vertical-align: middle;\n",
       "    }\n",
       "\n",
       "    .dataframe tbody tr th {\n",
       "        vertical-align: top;\n",
       "    }\n",
       "\n",
       "    .dataframe thead th {\n",
       "        text-align: right;\n",
       "    }\n",
       "</style>\n",
       "<table border=\"1\" class=\"dataframe\">\n",
       "  <thead>\n",
       "    <tr style=\"text-align: right;\">\n",
       "      <th></th>\n",
       "      <th>카테고리</th>\n",
       "      <th>사용시간</th>\n",
       "      <th>흡입력</th>\n",
       "    </tr>\n",
       "  </thead>\n",
       "  <tbody>\n",
       "    <tr>\n",
       "      <th>64</th>\n",
       "      <td>핸디/스틱청소기</td>\n",
       "      <td>사용시간</td>\n",
       "      <td></td>\n",
       "    </tr>\n",
       "  </tbody>\n",
       "</table>\n",
       "</div>"
      ],
      "text/plain": [
       "        카테고리  사용시간 흡입력\n",
       "64  핸디/스틱청소기  사용시간    "
      ]
     },
     "execution_count": 348,
     "metadata": {},
     "output_type": "execute_result"
    }
   ],
   "source": [
    "temp[temp[\"사용시간\"] == \"사용시간\"]"
   ]
  },
  {
   "cell_type": "code",
   "execution_count": 413,
   "metadata": {},
   "outputs": [],
   "source": [
    "def convert_hours_to_minutes(t):\n",
    "    total_time = 0\n",
    "    \n",
    "\n",
    "    if \"사용\" in t or \"Ah\" in t or \"\" in t:\n",
    "        return 0\n",
    "    elif \"시간\" in t:\n",
    "        print(t)\n",
    "        if \"~\" in t:\n",
    "            #print(t.split(\"~\")[0].split(\"시간\")[0], t.split(\"~\")[1].split(\"시간\")[0], t.split(\"시간\")[2].split(\"분\")[0])\n",
    "            total_time += (int(t.split(\"~\")[0].split(\"시간\")[0]) + int(t.split(\"~\")[1].split(\"시간\")[0])) * 60 + int(t.split(\"시간\")[2].split(\"분\")[0])\n",
    "        else:\n",
    "            total_time += int(t.split(\"시간\")[0]) * 60\n",
    "            if \"분\" in t:\n",
    "                total_time += int(t.split(\"시간\")[1].split(\"분\")[0])\n",
    "    else:\n",
    "        if \"~\" in t:\n",
    "            total_time += (int(t.split(\"~\")[0]) + int(t.split(\"~\")[1].split(\"분\")[0])) // 2\n",
    "        else:\n",
    "            total_time += int(t.split(\"분\")[0])\n",
    "        \n",
    "    return total_time\n",
    "\n",
    "\n",
    "times = [\"40분\", \"4분\", \"1시간\", \"3시간30분\", \"7~10분\", \"5.0Ah\", \"사용시간\", \"\" , \"1시간~1시간30분\"]\n",
    "\n",
    "for t in times:\n",
    "    time_value = convert_hours_to_minutes(t)\n",
    "    #print(t, '=', time_value)"
   ]
  },
  {
   "cell_type": "code",
   "execution_count": 379,
   "metadata": {},
   "outputs": [
    {
     "data": {
      "text/plain": [
       "'11'"
      ]
     },
     "execution_count": 379,
     "metadata": {},
     "output_type": "execute_result"
    }
   ],
   "source": [
    "\"1시간~1시간30분\".split(\"~\")[0].split(\"시간\")[0] + \"1시간~1시간30분\".split(\"~\")[1].split(\"시간\")[0] "
   ]
  },
  {
   "cell_type": "code",
   "execution_count": 388,
   "metadata": {},
   "outputs": [
    {
     "data": {
      "text/plain": [
       "'30'"
      ]
     },
     "execution_count": 388,
     "metadata": {},
     "output_type": "execute_result"
    }
   ],
   "source": [
    "\"1시간~1시간30분\".split(\"시간\")[2].split(\"분\")[0]"
   ]
  },
  {
   "cell_type": "code",
   "execution_count": 394,
   "metadata": {},
   "outputs": [
    {
     "data": {
      "text/plain": [
       "'1'"
      ]
     },
     "execution_count": 394,
     "metadata": {},
     "output_type": "execute_result"
    }
   ],
   "source": [
    "\"1시간~1시간30분\".split(\"~\")[1].split(\"시간\")[0]"
   ]
  },
  {
   "cell_type": "code",
   "execution_count": null,
   "metadata": {},
   "outputs": [],
   "source": []
  }
 ],
 "metadata": {
  "kernelspec": {
   "display_name": "Python 3",
   "language": "python",
   "name": "python3"
  },
  "language_info": {
   "codemirror_mode": {
    "name": "ipython",
    "version": 3
   },
   "file_extension": ".py",
   "mimetype": "text/x-python",
   "name": "python",
   "nbconvert_exporter": "python",
   "pygments_lexer": "ipython3",
   "version": "3.8.5"
  }
 },
 "nbformat": 4,
 "nbformat_minor": 4
}
