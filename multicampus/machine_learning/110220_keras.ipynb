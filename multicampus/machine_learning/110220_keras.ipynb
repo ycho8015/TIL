{
 "cells": [
  {
   "cell_type": "markdown",
   "metadata": {},
   "source": [
    "# Keras 기초"
   ]
  },
  {
   "cell_type": "markdown",
   "metadata": {},
   "source": [
    "## MNIST"
   ]
  },
  {
   "cell_type": "code",
   "execution_count": 59,
   "metadata": {},
   "outputs": [],
   "source": [
    "import numpy as np\n",
    "from keras.utils import np_utils\n",
    "from keras.datasets import mnist\n",
    "from keras.models import Sequential\n",
    "from keras.layers import Dense, Activation"
   ]
  },
  {
   "cell_type": "markdown",
   "metadata": {},
   "source": [
    "### 1. 데이터셋 생성"
   ]
  },
  {
   "cell_type": "markdown",
   "metadata": {},
   "source": [
    "훈련, 검증 시험셋 생성"
   ]
  },
  {
   "cell_type": "code",
   "execution_count": 60,
   "metadata": {},
   "outputs": [],
   "source": [
    "(x_train, y_train), (x_test, y_test) = mnist.load_data()"
   ]
  },
  {
   "cell_type": "code",
   "execution_count": 61,
   "metadata": {},
   "outputs": [
    {
     "data": {
      "text/plain": [
       "(60000, 28, 28)"
      ]
     },
     "execution_count": 61,
     "metadata": {},
     "output_type": "execute_result"
    }
   ],
   "source": [
    "x_train.shape # (60000, 28, 28) 6만개의 28 x 28 픽셀 이미지"
   ]
  },
  {
   "cell_type": "markdown",
   "metadata": {},
   "source": [
    "데이터 형식 변환"
   ]
  },
  {
   "cell_type": "code",
   "execution_count": 62,
   "metadata": {},
   "outputs": [],
   "source": [
    "# 0 ~ 1 사이로 scaling\n",
    "x_train = x_train.reshape(60000, 28 * 28).astype(\"float32\") / 255.0\n",
    "x_test = x_test.reshape(10000, 28 * 28).astype(\"float32\") / 255.0"
   ]
  },
  {
   "cell_type": "code",
   "execution_count": 63,
   "metadata": {},
   "outputs": [],
   "source": [
    "# One-Hot Encoding\n",
    "y_train = np_utils.to_categorical(y_train)\n",
    "y_test = np_utils.to_categorical(y_test)"
   ]
  },
  {
   "cell_type": "markdown",
   "metadata": {},
   "source": [
    "### 2. 모델(신경망, 딥러닝) 구성"
   ]
  },
  {
   "cell_type": "markdown",
   "metadata": {},
   "source": [
    "Sequential 클래스를 이용하여 레이어를 추가하여 구성"
   ]
  },
  {
   "cell_type": "code",
   "execution_count": 64,
   "metadata": {},
   "outputs": [],
   "source": [
    "model = Sequential()\n",
    "model.add(Dense(units=64, input_dim=28 * 28, activation=\"relu\")) # add함수: layer 추가\n",
    "model.add(Dense(units=10, activation=\"softmax\"))"
   ]
  },
  {
   "cell_type": "markdown",
   "metadata": {},
   "source": [
    "### 3. 학습과정 설정"
   ]
  },
  {
   "cell_type": "markdown",
   "metadata": {},
   "source": [
    "compile 함수를 이용하여 cost 함수 및 최적화 방법 정의"
   ]
  },
  {
   "cell_type": "code",
   "execution_count": 65,
   "metadata": {},
   "outputs": [],
   "source": [
    "# cost 함수, 최적화 방법, 평가 지표 정의\n",
    "model.compile(loss=\"categorical_crossentropy\", optimizer=\"sgd\", metrics=['accuracy'])"
   ]
  },
  {
   "cell_type": "markdown",
   "metadata": {},
   "source": [
    "### 4. 모델 학습"
   ]
  },
  {
   "cell_type": "markdown",
   "metadata": {},
   "source": [
    "fit 함수를 이용하여 훈련 -> 모델 학습"
   ]
  },
  {
   "cell_type": "code",
   "execution_count": 66,
   "metadata": {},
   "outputs": [
    {
     "name": "stdout",
     "output_type": "stream",
     "text": [
      "Epoch 1/5\n",
      "1875/1875 [==============================] - 1s 599us/step - loss: 0.6695 - accuracy: 0.8288\n",
      "Epoch 2/5\n",
      "1875/1875 [==============================] - 1s 586us/step - loss: 0.3503 - accuracy: 0.9018\n",
      "Epoch 3/5\n",
      "1875/1875 [==============================] - 1s 614us/step - loss: 0.3053 - accuracy: 0.9140\n",
      "Epoch 4/5\n",
      "1875/1875 [==============================] - 1s 588us/step - loss: 0.2777 - accuracy: 0.9221\n",
      "Epoch 5/5\n",
      "1875/1875 [==============================] - 1s 654us/step - loss: 0.2566 - accuracy: 0.9278\n"
     ]
    }
   ],
   "source": [
    "hist = model.fit(x_train, y_train, epochs=5, batch_size=32)"
   ]
  },
  {
   "cell_type": "markdown",
   "metadata": {},
   "source": [
    "### 5. 학습과정 점검"
   ]
  },
  {
   "cell_type": "markdown",
   "metadata": {},
   "source": [
    "훈련/검증 데이터셋 cost, accuracy 확인"
   ]
  },
  {
   "cell_type": "code",
   "execution_count": 67,
   "metadata": {},
   "outputs": [
    {
     "name": "stdout",
     "output_type": "stream",
     "text": [
      "[0.669458270072937, 0.35029110312461853, 0.3053295612335205, 0.27774521708488464, 0.25656527280807495]\n"
     ]
    }
   ],
   "source": [
    "print(hist.history['loss'])"
   ]
  },
  {
   "cell_type": "code",
   "execution_count": 68,
   "metadata": {},
   "outputs": [
    {
     "name": "stdout",
     "output_type": "stream",
     "text": [
      "[0.8287833333015442, 0.9017500281333923, 0.9139833450317383, 0.9221000075340271, 0.9277833104133606]\n"
     ]
    }
   ],
   "source": [
    "print(hist.history['accuracy'])"
   ]
  },
  {
   "cell_type": "markdown",
   "metadata": {},
   "source": [
    "### 6. 모델 평가"
   ]
  },
  {
   "cell_type": "markdown",
   "metadata": {},
   "source": [
    "evaluate 함수를 이용하여 모델을 평가"
   ]
  },
  {
   "cell_type": "code",
   "execution_count": 69,
   "metadata": {},
   "outputs": [
    {
     "name": "stdout",
     "output_type": "stream",
     "text": [
      "313/313 [==============================] - 0s 477us/step - loss: 0.2401 - accuracy: 0.9328\n",
      "모델 평가 결과:  [0.24010217189788818, 0.9327999949455261]\n"
     ]
    }
   ],
   "source": [
    "res = model.evaluate(x_test, y_test, batch_size=32)\n",
    "print(\"모델 평가 결과: \", res)"
   ]
  },
  {
   "cell_type": "markdown",
   "metadata": {},
   "source": [
    "### 7. 모델 사용"
   ]
  },
  {
   "cell_type": "markdown",
   "metadata": {},
   "source": [
    "predict 함수를 이용하여 모델의 예측값 출력"
   ]
  },
  {
   "cell_type": "code",
   "execution_count": 70,
   "metadata": {},
   "outputs": [
    {
     "name": "stdout",
     "output_type": "stream",
     "text": [
      "예측 결과:  [1.8557158e-04 2.8138982e-07 3.8110840e-04 8.5249729e-03 2.4888504e-06\n",
      " 7.4367410e-05 9.1639841e-08 9.8968786e-01 7.5680793e-05 1.0676443e-03]\n",
      "숫자:  7\n"
     ]
    }
   ],
   "source": [
    "y_hat = model.predict(x_test[0:1])\n",
    "print(\"예측 결과: \", *y_hat) # softmax 함수의 결과값 0 ~ 9까지의 숫자마다의 확률\n",
    "print(\"숫자: \", np.argmax(y_hat)) "
   ]
  },
  {
   "cell_type": "markdown",
   "metadata": {},
   "source": [
    "## 선형 회귀(Linear Regression)\n",
    "* 학습량에 따른 시험점수 예측하기\n",
    "    * $\\text{exam_score} = w * \\text{study_hours} + b$"
   ]
  },
  {
   "cell_type": "code",
   "execution_count": 112,
   "metadata": {},
   "outputs": [],
   "source": [
    "x = np.arange(1, 11) # 공부 시간\n",
    "y = np.array([10, 20, 33, 42, 35, 50, 70, 80, 88, 100]) # 점수"
   ]
  },
  {
   "cell_type": "code",
   "execution_count": 113,
   "metadata": {},
   "outputs": [],
   "source": [
    "model = Sequential()\n",
    "model.add(Dense(units=1, input_dim=1, activation=\"linear\")) # add함수: layer 추가"
   ]
  },
  {
   "cell_type": "code",
   "execution_count": 114,
   "metadata": {
    "collapsed": true,
    "jupyter": {
     "outputs_hidden": true
    }
   },
   "outputs": [
    {
     "name": "stdout",
     "output_type": "stream",
     "text": [
      "Epoch 1/100\n",
      "1/1 [==============================] - 0s 2ms/step - loss: 3498.7390 - mse: 3498.7390\n",
      "Epoch 2/100\n",
      "1/1 [==============================] - 0s 821us/step - loss: 189.5833 - mse: 189.5833\n",
      "Epoch 3/100\n",
      "1/1 [==============================] - 0s 820us/step - loss: 37.7435 - mse: 37.7435\n",
      "Epoch 4/100\n",
      "1/1 [==============================] - 0s 2ms/step - loss: 30.7660 - mse: 30.7660\n",
      "Epoch 5/100\n",
      "1/1 [==============================] - 0s 2ms/step - loss: 30.4351 - mse: 30.4351\n",
      "Epoch 6/100\n",
      "1/1 [==============================] - 0s 2ms/step - loss: 30.4093 - mse: 30.4093\n",
      "Epoch 7/100\n",
      "1/1 [==============================] - 0s 0s/step - loss: 30.3976 - mse: 30.3976\n",
      "Epoch 8/100\n",
      "1/1 [==============================] - 0s 2ms/step - loss: 30.3866 - mse: 30.3866\n",
      "Epoch 9/100\n",
      "1/1 [==============================] - 0s 2ms/step - loss: 30.3757 - mse: 30.3757\n",
      "Epoch 10/100\n",
      "1/1 [==============================] - 0s 820us/step - loss: 30.3649 - mse: 30.3649\n",
      "Epoch 11/100\n",
      "1/1 [==============================] - 0s 818us/step - loss: 30.3542 - mse: 30.3542\n",
      "Epoch 12/100\n",
      "1/1 [==============================] - 0s 820us/step - loss: 30.3435 - mse: 30.3435\n",
      "Epoch 13/100\n",
      "1/1 [==============================] - 0s 818us/step - loss: 30.3330 - mse: 30.3330\n",
      "Epoch 14/100\n",
      "1/1 [==============================] - 0s 818us/step - loss: 30.3226 - mse: 30.3226\n",
      "Epoch 15/100\n",
      "1/1 [==============================] - 0s 819us/step - loss: 30.3122 - mse: 30.3122\n",
      "Epoch 16/100\n",
      "1/1 [==============================] - 0s 2ms/step - loss: 30.3020 - mse: 30.3020\n",
      "Epoch 17/100\n",
      "1/1 [==============================] - 0s 821us/step - loss: 30.2918 - mse: 30.2918\n",
      "Epoch 18/100\n",
      "1/1 [==============================] - 0s 818us/step - loss: 30.2817 - mse: 30.2817\n",
      "Epoch 19/100\n",
      "1/1 [==============================] - 0s 822us/step - loss: 30.2716 - mse: 30.2716\n",
      "Epoch 20/100\n",
      "1/1 [==============================] - 0s 2ms/step - loss: 30.2617 - mse: 30.2617\n",
      "Epoch 21/100\n",
      "1/1 [==============================] - 0s 821us/step - loss: 30.2519 - mse: 30.2519\n",
      "Epoch 22/100\n",
      "1/1 [==============================] - 0s 2ms/step - loss: 30.2421 - mse: 30.2421\n",
      "Epoch 23/100\n",
      "1/1 [==============================] - 0s 820us/step - loss: 30.2324 - mse: 30.2324\n",
      "Epoch 24/100\n",
      "1/1 [==============================] - 0s 820us/step - loss: 30.2228 - mse: 30.2228\n",
      "Epoch 25/100\n",
      "1/1 [==============================] - 0s 0s/step - loss: 30.2133 - mse: 30.2133\n",
      "Epoch 26/100\n",
      "1/1 [==============================] - 0s 819us/step - loss: 30.2039 - mse: 30.2039\n",
      "Epoch 27/100\n",
      "1/1 [==============================] - 0s 819us/step - loss: 30.1945 - mse: 30.1945\n",
      "Epoch 28/100\n",
      "1/1 [==============================] - 0s 2ms/step - loss: 30.1852 - mse: 30.1852\n",
      "Epoch 29/100\n",
      "1/1 [==============================] - 0s 2ms/step - loss: 30.1761 - mse: 30.1761\n",
      "Epoch 30/100\n",
      "1/1 [==============================] - 0s 819us/step - loss: 30.1669 - mse: 30.1669\n",
      "Epoch 31/100\n",
      "1/1 [==============================] - 0s 2ms/step - loss: 30.1579 - mse: 30.1579\n",
      "Epoch 32/100\n",
      "1/1 [==============================] - 0s 819us/step - loss: 30.1489 - mse: 30.1489\n",
      "Epoch 33/100\n",
      "1/1 [==============================] - 0s 819us/step - loss: 30.1400 - mse: 30.1400\n",
      "Epoch 34/100\n",
      "1/1 [==============================] - 0s 819us/step - loss: 30.1312 - mse: 30.1312\n",
      "Epoch 35/100\n",
      "1/1 [==============================] - 0s 2ms/step - loss: 30.1224 - mse: 30.1224\n",
      "Epoch 36/100\n",
      "1/1 [==============================] - 0s 2ms/step - loss: 30.1138 - mse: 30.1138\n",
      "Epoch 37/100\n",
      "1/1 [==============================] - 0s 820us/step - loss: 30.1051 - mse: 30.1051\n",
      "Epoch 38/100\n",
      "1/1 [==============================] - 0s 818us/step - loss: 30.0966 - mse: 30.0966\n",
      "Epoch 39/100\n",
      "1/1 [==============================] - 0s 2ms/step - loss: 30.0882 - mse: 30.0882\n",
      "Epoch 40/100\n",
      "1/1 [==============================] - 0s 2ms/step - loss: 30.0798 - mse: 30.0798\n",
      "Epoch 41/100\n",
      "1/1 [==============================] - 0s 2ms/step - loss: 30.0715 - mse: 30.0715\n",
      "Epoch 42/100\n",
      "1/1 [==============================] - 0s 2ms/step - loss: 30.0632 - mse: 30.0632\n",
      "Epoch 43/100\n",
      "1/1 [==============================] - 0s 819us/step - loss: 30.0550 - mse: 30.0550\n",
      "Epoch 44/100\n",
      "1/1 [==============================] - 0s 2ms/step - loss: 30.0469 - mse: 30.0469\n",
      "Epoch 45/100\n",
      "1/1 [==============================] - 0s 819us/step - loss: 30.0389 - mse: 30.0389\n",
      "Epoch 46/100\n",
      "1/1 [==============================] - 0s 2ms/step - loss: 30.0309 - mse: 30.0309\n",
      "Epoch 47/100\n",
      "1/1 [==============================] - 0s 2ms/step - loss: 30.0230 - mse: 30.0230\n",
      "Epoch 48/100\n",
      "1/1 [==============================] - 0s 820us/step - loss: 30.0152 - mse: 30.0152\n",
      "Epoch 49/100\n",
      "1/1 [==============================] - 0s 820us/step - loss: 30.0074 - mse: 30.0074\n",
      "Epoch 50/100\n",
      "1/1 [==============================] - 0s 821us/step - loss: 29.9996 - mse: 29.9996\n",
      "Epoch 51/100\n",
      "1/1 [==============================] - 0s 2ms/step - loss: 29.9920 - mse: 29.9920\n",
      "Epoch 52/100\n",
      "1/1 [==============================] - 0s 2ms/step - loss: 29.9844 - mse: 29.9844\n",
      "Epoch 53/100\n",
      "1/1 [==============================] - 0s 820us/step - loss: 29.9769 - mse: 29.9769\n",
      "Epoch 54/100\n",
      "1/1 [==============================] - 0s 2ms/step - loss: 29.9694 - mse: 29.9694\n",
      "Epoch 55/100\n",
      "1/1 [==============================] - 0s 2ms/step - loss: 29.9621 - mse: 29.9621\n",
      "Epoch 56/100\n",
      "1/1 [==============================] - 0s 820us/step - loss: 29.9547 - mse: 29.9547\n",
      "Epoch 57/100\n",
      "1/1 [==============================] - 0s 2ms/step - loss: 29.9475 - mse: 29.9475\n",
      "Epoch 58/100\n",
      "1/1 [==============================] - 0s 2ms/step - loss: 29.9402 - mse: 29.9402\n",
      "Epoch 59/100\n",
      "1/1 [==============================] - 0s 820us/step - loss: 29.9331 - mse: 29.9331\n",
      "Epoch 60/100\n",
      "1/1 [==============================] - 0s 819us/step - loss: 29.9260 - mse: 29.9260\n",
      "Epoch 61/100\n",
      "1/1 [==============================] - 0s 2ms/step - loss: 29.9190 - mse: 29.9190\n",
      "Epoch 62/100\n",
      "1/1 [==============================] - 0s 2ms/step - loss: 29.9120 - mse: 29.9120\n",
      "Epoch 63/100\n",
      "1/1 [==============================] - 0s 819us/step - loss: 29.9051 - mse: 29.9051\n",
      "Epoch 64/100\n",
      "1/1 [==============================] - 0s 818us/step - loss: 29.8982 - mse: 29.8982\n",
      "Epoch 65/100\n",
      "1/1 [==============================] - 0s 2ms/step - loss: 29.8914 - mse: 29.8914\n",
      "Epoch 66/100\n",
      "1/1 [==============================] - 0s 820us/step - loss: 29.8847 - mse: 29.8847\n",
      "Epoch 67/100\n",
      "1/1 [==============================] - 0s 818us/step - loss: 29.8780 - mse: 29.8780\n",
      "Epoch 68/100\n",
      "1/1 [==============================] - 0s 2ms/step - loss: 29.8714 - mse: 29.8714\n",
      "Epoch 69/100\n",
      "1/1 [==============================] - 0s 819us/step - loss: 29.8648 - mse: 29.8648\n",
      "Epoch 70/100\n",
      "1/1 [==============================] - 0s 819us/step - loss: 29.8583 - mse: 29.8583\n",
      "Epoch 71/100\n",
      "1/1 [==============================] - 0s 2ms/step - loss: 29.8518 - mse: 29.8518\n",
      "Epoch 72/100\n",
      "1/1 [==============================] - 0s 2ms/step - loss: 29.8454 - mse: 29.8454\n",
      "Epoch 73/100\n",
      "1/1 [==============================] - 0s 819us/step - loss: 29.8391 - mse: 29.8391\n",
      "Epoch 74/100\n",
      "1/1 [==============================] - 0s 2ms/step - loss: 29.8328 - mse: 29.8328\n",
      "Epoch 75/100\n",
      "1/1 [==============================] - 0s 2ms/step - loss: 29.8265 - mse: 29.8265\n",
      "Epoch 76/100\n",
      "1/1 [==============================] - 0s 820us/step - loss: 29.8203 - mse: 29.8203\n",
      "Epoch 77/100\n",
      "1/1 [==============================] - 0s 2ms/step - loss: 29.8142 - mse: 29.8142\n",
      "Epoch 78/100\n",
      "1/1 [==============================] - 0s 2ms/step - loss: 29.8081 - mse: 29.8081\n",
      "Epoch 79/100\n",
      "1/1 [==============================] - 0s 819us/step - loss: 29.8021 - mse: 29.8021\n",
      "Epoch 80/100\n",
      "1/1 [==============================] - 0s 2ms/step - loss: 29.7961 - mse: 29.7961\n",
      "Epoch 81/100\n",
      "1/1 [==============================] - 0s 2ms/step - loss: 29.7901 - mse: 29.7901\n",
      "Epoch 82/100\n",
      "1/1 [==============================] - 0s 2ms/step - loss: 29.7842 - mse: 29.7842\n",
      "Epoch 83/100\n",
      "1/1 [==============================] - 0s 819us/step - loss: 29.7784 - mse: 29.7784\n",
      "Epoch 84/100\n",
      "1/1 [==============================] - 0s 2ms/step - loss: 29.7726 - mse: 29.7726\n",
      "Epoch 85/100\n",
      "1/1 [==============================] - 0s 819us/step - loss: 29.7668 - mse: 29.7668\n",
      "Epoch 86/100\n",
      "1/1 [==============================] - 0s 820us/step - loss: 29.7611 - mse: 29.7611\n",
      "Epoch 87/100\n",
      "1/1 [==============================] - 0s 2ms/step - loss: 29.7555 - mse: 29.7555\n",
      "Epoch 88/100\n",
      "1/1 [==============================] - 0s 2ms/step - loss: 29.7499 - mse: 29.7499\n",
      "Epoch 89/100\n",
      "1/1 [==============================] - 0s 2ms/step - loss: 29.7443 - mse: 29.7443\n",
      "Epoch 90/100\n",
      "1/1 [==============================] - 0s 819us/step - loss: 29.7388 - mse: 29.7388\n",
      "Epoch 91/100\n",
      "1/1 [==============================] - 0s 819us/step - loss: 29.7334 - mse: 29.7334\n",
      "Epoch 92/100\n",
      "1/1 [==============================] - 0s 2ms/step - loss: 29.7280 - mse: 29.7280\n",
      "Epoch 93/100\n",
      "1/1 [==============================] - 0s 819us/step - loss: 29.7226 - mse: 29.7226\n",
      "Epoch 94/100\n",
      "1/1 [==============================] - 0s 0s/step - loss: 29.7173 - mse: 29.7173\n",
      "Epoch 95/100\n",
      "1/1 [==============================] - 0s 820us/step - loss: 29.7120 - mse: 29.7120\n",
      "Epoch 96/100\n",
      "1/1 [==============================] - 0s 819us/step - loss: 29.7068 - mse: 29.7068\n",
      "Epoch 97/100\n",
      "1/1 [==============================] - 0s 2ms/step - loss: 29.7016 - mse: 29.7016\n",
      "Epoch 98/100\n",
      "1/1 [==============================] - 0s 2ms/step - loss: 29.6964 - mse: 29.6964\n",
      "Epoch 99/100\n",
      "1/1 [==============================] - 0s 819us/step - loss: 29.6913 - mse: 29.6913\n",
      "Epoch 100/100\n",
      "1/1 [==============================] - 0s 819us/step - loss: 29.6863 - mse: 29.6863\n"
     ]
    }
   ],
   "source": [
    "from keras import optimizers\n",
    "\n",
    "optimizers.SGD(lr=0.01) # lr = learning rate(alpha)\n",
    "model.compile(loss=\"mse\", optimizer=\"sgd\", metrics=['mse'])\n",
    "\n",
    "hist = model.fit(x, y, epochs=100)"
   ]
  },
  {
   "cell_type": "code",
   "execution_count": 115,
   "metadata": {},
   "outputs": [
    {
     "name": "stdout",
     "output_type": "stream",
     "text": [
      "1/1 [==============================] - 0s 2ms/step - loss: 29.6812 - mse: 29.6812\n",
      "모델 평가 결과:  [29.681224822998047, 29.681224822998047]\n"
     ]
    }
   ],
   "source": [
    "res = model.evaluate(x, y)\n",
    "print(\"모델 평가 결과: \", res)"
   ]
  },
  {
   "cell_type": "code",
   "execution_count": 117,
   "metadata": {},
   "outputs": [
    {
     "name": "stdout",
     "output_type": "stream",
     "text": [
      "예측 결과:  [[91.465775]]\n"
     ]
    }
   ],
   "source": [
    "print(\"예측 결과: \", model.predict([9.5]))"
   ]
  },
  {
   "cell_type": "code",
   "execution_count": 119,
   "metadata": {},
   "outputs": [
    {
     "data": {
      "text/plain": [
       "[<matplotlib.lines.Line2D at 0x1bfcdfb5f70>,\n",
       " <matplotlib.lines.Line2D at 0x1bfcdf810a0>]"
      ]
     },
     "execution_count": 119,
     "metadata": {},
     "output_type": "execute_result"
    },
    {
     "data": {
      "image/png": "[encoded data removed]",
      "text/plain": [
       "<Figure size 432x288 with 1 Axes>"
      ]
     },
     "metadata": {
      "needs_background": "light"
     },
     "output_type": "display_data"
    }
   ],
   "source": [
    "import matplotlib.pyplot as plt\n",
    "\n",
    "plt.plot(x, model.predict(x), 'b', x, y, 'k. ')"
   ]
  },
  {
   "cell_type": "markdown",
   "metadata": {},
   "source": [
    "## 로지스틱 회귀(Logistics Regression)"
   ]
  },
  {
   "cell_type": "code",
   "execution_count": 167,
   "metadata": {},
   "outputs": [
    {
     "data": {
      "text/plain": [
       "[<matplotlib.lines.Line2D at 0x1bfdeb17580>]"
      ]
     },
     "execution_count": 167,
     "metadata": {},
     "output_type": "execute_result"
    },
    {
     "data": {
      "image/png": "[encoded data removed]",
      "text/plain": [
       "<Figure size 432x288 with 1 Axes>"
      ]
     },
     "metadata": {
      "needs_background": "light"
     },
     "output_type": "display_data"
    }
   ],
   "source": [
    "def sigmoid(x):\n",
    "    return 1 / (1 + np.exp(-x))\n",
    "\n",
    "x = np.arange(-5, 5, 0.1)\n",
    "y = sigmoid(x)\n",
    "plt.plot(x, y, 'g')\n",
    "plt.plot([0, 0], [1, 0], ':')"
   ]
  },
  {
   "cell_type": "code",
   "execution_count": 173,
   "metadata": {},
   "outputs": [
    {
     "data": {
      "text/plain": [
       "[<matplotlib.lines.Line2D at 0x1bfdff238e0>]"
      ]
     },
     "execution_count": 173,
     "metadata": {},
     "output_type": "execute_result"
    },
    {
     "data": {
      "image/png": "[encoded data removed]",
      "text/plain": [
       "<Figure size 432x288 with 1 Axes>"
      ]
     },
     "metadata": {
      "needs_background": "light"
     },
     "output_type": "display_data"
    }
   ],
   "source": [
    "x = np.arange(-5, 5, 0.1)\n",
    "y1 = sigmoid(1 * x)\n",
    "y2 = sigmoid(0.5 * x)\n",
    "y3 = sigmoid(2 * x)\n",
    "\n",
    "plt.plot(x, y1, 'g')\n",
    "plt.plot(x, y2, 'b')\n",
    "plt.plot(x, y3, 'r')\n",
    "plt.plot([0, 0], [1, 0], ':')"
   ]
  },
  {
   "cell_type": "markdown",
   "metadata": {},
   "source": [
    "## 이진 분류"
   ]
  },
  {
   "cell_type": "code",
   "execution_count": 174,
   "metadata": {},
   "outputs": [],
   "source": [
    "model = Sequential()\n",
    "model.add(Dense(1, input_dim=1, activation=\"sigmoid\"))"
   ]
  },
  {
   "cell_type": "code",
   "execution_count": 175,
   "metadata": {},
   "outputs": [],
   "source": [
    "sgd = optimizers.SGD(lr=0.01)\n",
    "model.compile(loss=\"binary_crossentropy\", optimizer=sgd, metrics=['binary_accuracy'])"
   ]
  },
  {
   "cell_type": "code",
   "execution_count": null,
   "metadata": {},
   "outputs": [],
   "source": [
    "model.fit(x, y, batch_size=1, epochs=300)"
   ]
  },
  {
   "cell_type": "code",
   "execution_count": null,
   "metadata": {},
   "outputs": [],
   "source": [
    "plt.plot(x, model.predict(x), 'b', x', y', 'k. ')\n",
    "model.predict([1, 3, 4])"
   ]
  }
 ],
 "metadata": {
  "kernelspec": {
   "display_name": "Python 3",
   "language": "python",
   "name": "python3"
  },
  "language_info": {
   "codemirror_mode": {
    "name": "ipython",
    "version": 3
   },
   "file_extension": ".py",
   "mimetype": "text/x-python",
   "name": "python",
   "nbconvert_exporter": "python",
   "pygments_lexer": "ipython3",
   "version": "3.8.3"
  }
 },
 "nbformat": 4,
 "nbformat_minor": 4
}
