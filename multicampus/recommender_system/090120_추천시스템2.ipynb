{
 "cells": [
  {
   "cell_type": "code",
   "execution_count": 5,
   "metadata": {},
   "outputs": [],
   "source": [
    "#인덱스 기준:sort_index\n",
    "#데이터 기준:sort_values\n",
    "import pandas as pd\n",
    "import numpy as np\n",
    "import matplotlib.pyplot as plt"
   ]
  },
  {
   "cell_type": "code",
   "execution_count": 6,
   "metadata": {},
   "outputs": [
    {
     "data": {
      "text/plain": [
       "i    1\n",
       "j    0\n",
       "k    2\n",
       "p    3\n",
       "dtype: int64"
      ]
     },
     "execution_count": 6,
     "metadata": {},
     "output_type": "execute_result"
    }
   ],
   "source": [
    "obj=pd.Series(range(4), index=['j','i','k','p'])\n",
    "obj.sort_index()"
   ]
  },
  {
   "cell_type": "code",
   "execution_count": 7,
   "metadata": {},
   "outputs": [
    {
     "data": {
      "text/html": [
       "<div>\n",
       "<style scoped>\n",
       "    .dataframe tbody tr th:only-of-type {\n",
       "        vertical-align: middle;\n",
       "    }\n",
       "\n",
       "    .dataframe tbody tr th {\n",
       "        vertical-align: top;\n",
       "    }\n",
       "\n",
       "    .dataframe thead th {\n",
       "        text-align: right;\n",
       "    }\n",
       "</style>\n",
       "<table border=\"1\" class=\"dataframe\">\n",
       "  <thead>\n",
       "    <tr style=\"text-align: right;\">\n",
       "      <th></th>\n",
       "      <th>p</th>\n",
       "      <th>k</th>\n",
       "      <th>j</th>\n",
       "      <th>i</th>\n",
       "    </tr>\n",
       "  </thead>\n",
       "  <tbody>\n",
       "    <tr>\n",
       "      <th>three</th>\n",
       "      <td>3</td>\n",
       "      <td>0</td>\n",
       "      <td>1</td>\n",
       "      <td>2</td>\n",
       "    </tr>\n",
       "    <tr>\n",
       "      <th>one</th>\n",
       "      <td>7</td>\n",
       "      <td>4</td>\n",
       "      <td>5</td>\n",
       "      <td>6</td>\n",
       "    </tr>\n",
       "  </tbody>\n",
       "</table>\n",
       "</div>"
      ],
      "text/plain": [
       "       p  k  j  i\n",
       "three  3  0  1  2\n",
       "one    7  4  5  6"
      ]
     },
     "execution_count": 7,
     "metadata": {},
     "output_type": "execute_result"
    }
   ],
   "source": [
    "df=pd.DataFrame(np.arange(8).reshape((2,4)),\n",
    "            index=['three', 'one'],\n",
    "            columns=['k','j','i','p'])\n",
    "df.sort_index() #행을 기준으로 정렬, axis=0, default\n",
    "df.sort_index(axis=1) #열을 기준으로 정렬\n",
    "df.sort_index(axis=1,ascending=False) #열을 기준으로 정렬"
   ]
  },
  {
   "cell_type": "code",
   "execution_count": 8,
   "metadata": {},
   "outputs": [
    {
     "data": {
      "text/plain": [
       "0    2.0\n",
       "1    NaN\n",
       "2    5.0\n",
       "3   -3.0\n",
       "4    0.0\n",
       "dtype: float64"
      ]
     },
     "execution_count": 8,
     "metadata": {},
     "output_type": "execute_result"
    }
   ],
   "source": [
    "obj=pd.Series([2,np.nan,5,-3,0])\n",
    "obj"
   ]
  },
  {
   "cell_type": "code",
   "execution_count": 9,
   "metadata": {},
   "outputs": [
    {
     "data": {
      "text/plain": [
       "3   -3.0\n",
       "4    0.0\n",
       "0    2.0\n",
       "2    5.0\n",
       "1    NaN\n",
       "dtype: float64"
      ]
     },
     "execution_count": 9,
     "metadata": {},
     "output_type": "execute_result"
    }
   ],
   "source": [
    "obj.sort_values()"
   ]
  },
  {
   "cell_type": "code",
   "execution_count": 10,
   "metadata": {},
   "outputs": [
    {
     "data": {
      "text/html": [
       "<div>\n",
       "<style scoped>\n",
       "    .dataframe tbody tr th:only-of-type {\n",
       "        vertical-align: middle;\n",
       "    }\n",
       "\n",
       "    .dataframe tbody tr th {\n",
       "        vertical-align: top;\n",
       "    }\n",
       "\n",
       "    .dataframe thead th {\n",
       "        text-align: right;\n",
       "    }\n",
       "</style>\n",
       "<table border=\"1\" class=\"dataframe\">\n",
       "  <thead>\n",
       "    <tr style=\"text-align: right;\">\n",
       "      <th></th>\n",
       "      <th>z</th>\n",
       "      <th>a</th>\n",
       "    </tr>\n",
       "  </thead>\n",
       "  <tbody>\n",
       "    <tr>\n",
       "      <th>0</th>\n",
       "      <td>3</td>\n",
       "      <td>0</td>\n",
       "    </tr>\n",
       "    <tr>\n",
       "      <th>1</th>\n",
       "      <td>2</td>\n",
       "      <td>1</td>\n",
       "    </tr>\n",
       "    <tr>\n",
       "      <th>2</th>\n",
       "      <td>-1</td>\n",
       "      <td>0</td>\n",
       "    </tr>\n",
       "    <tr>\n",
       "      <th>3</th>\n",
       "      <td>5</td>\n",
       "      <td>1</td>\n",
       "    </tr>\n",
       "  </tbody>\n",
       "</table>\n",
       "</div>"
      ],
      "text/plain": [
       "   z  a\n",
       "0  3  0\n",
       "1  2  1\n",
       "2 -1  0\n",
       "3  5  1"
      ]
     },
     "execution_count": 10,
     "metadata": {},
     "output_type": "execute_result"
    }
   ],
   "source": [
    "df=pd.DataFrame({'z':[3,2,-1,5], 'a':[0,1,0,1]})\n",
    "df"
   ]
  },
  {
   "cell_type": "code",
   "execution_count": 11,
   "metadata": {},
   "outputs": [
    {
     "data": {
      "text/html": [
       "<div>\n",
       "<style scoped>\n",
       "    .dataframe tbody tr th:only-of-type {\n",
       "        vertical-align: middle;\n",
       "    }\n",
       "\n",
       "    .dataframe tbody tr th {\n",
       "        vertical-align: top;\n",
       "    }\n",
       "\n",
       "    .dataframe thead th {\n",
       "        text-align: right;\n",
       "    }\n",
       "</style>\n",
       "<table border=\"1\" class=\"dataframe\">\n",
       "  <thead>\n",
       "    <tr style=\"text-align: right;\">\n",
       "      <th></th>\n",
       "      <th>z</th>\n",
       "      <th>a</th>\n",
       "    </tr>\n",
       "  </thead>\n",
       "  <tbody>\n",
       "    <tr>\n",
       "      <th>2</th>\n",
       "      <td>-1</td>\n",
       "      <td>0</td>\n",
       "    </tr>\n",
       "    <tr>\n",
       "      <th>0</th>\n",
       "      <td>3</td>\n",
       "      <td>0</td>\n",
       "    </tr>\n",
       "    <tr>\n",
       "      <th>1</th>\n",
       "      <td>2</td>\n",
       "      <td>1</td>\n",
       "    </tr>\n",
       "    <tr>\n",
       "      <th>3</th>\n",
       "      <td>5</td>\n",
       "      <td>1</td>\n",
       "    </tr>\n",
       "  </tbody>\n",
       "</table>\n",
       "</div>"
      ],
      "text/plain": [
       "   z  a\n",
       "2 -1  0\n",
       "0  3  0\n",
       "1  2  1\n",
       "3  5  1"
      ]
     },
     "execution_count": 11,
     "metadata": {},
     "output_type": "execute_result"
    }
   ],
   "source": [
    "df.sort_values(by=['a','z'])"
   ]
  },
  {
   "cell_type": "code",
   "execution_count": 12,
   "metadata": {},
   "outputs": [
    {
     "data": {
      "text/plain": [
       "a    0\n",
       "a    1\n",
       "b    2\n",
       "c    3\n",
       "c    4\n",
       "dtype: int64"
      ]
     },
     "execution_count": 12,
     "metadata": {},
     "output_type": "execute_result"
    }
   ],
   "source": [
    "obj=pd.Series(range(5),index=['a','a','b','c','c'])\n",
    "obj"
   ]
  },
  {
   "cell_type": "code",
   "execution_count": 13,
   "metadata": {},
   "outputs": [
    {
     "data": {
      "text/plain": [
       "False"
      ]
     },
     "execution_count": 13,
     "metadata": {},
     "output_type": "execute_result"
    }
   ],
   "source": [
    "obj.index.is_unique"
   ]
  },
  {
   "cell_type": "code",
   "execution_count": 14,
   "metadata": {},
   "outputs": [
    {
     "data": {
      "text/plain": [
       "pandas.core.series.Series"
      ]
     },
     "execution_count": 14,
     "metadata": {},
     "output_type": "execute_result"
    }
   ],
   "source": [
    "type(obj['a'])"
   ]
  },
  {
   "cell_type": "code",
   "execution_count": 15,
   "metadata": {},
   "outputs": [
    {
     "data": {
      "text/html": [
       "<div>\n",
       "<style scoped>\n",
       "    .dataframe tbody tr th:only-of-type {\n",
       "        vertical-align: middle;\n",
       "    }\n",
       "\n",
       "    .dataframe tbody tr th {\n",
       "        vertical-align: top;\n",
       "    }\n",
       "\n",
       "    .dataframe thead th {\n",
       "        text-align: right;\n",
       "    }\n",
       "</style>\n",
       "<table border=\"1\" class=\"dataframe\">\n",
       "  <thead>\n",
       "    <tr style=\"text-align: right;\">\n",
       "      <th></th>\n",
       "      <th>0</th>\n",
       "      <th>1</th>\n",
       "      <th>2</th>\n",
       "    </tr>\n",
       "  </thead>\n",
       "  <tbody>\n",
       "    <tr>\n",
       "      <th>b</th>\n",
       "      <td>0.065189</td>\n",
       "      <td>-0.790649</td>\n",
       "      <td>1.218722</td>\n",
       "    </tr>\n",
       "    <tr>\n",
       "      <th>b</th>\n",
       "      <td>-1.967461</td>\n",
       "      <td>-0.207487</td>\n",
       "      <td>-1.770639</td>\n",
       "    </tr>\n",
       "  </tbody>\n",
       "</table>\n",
       "</div>"
      ],
      "text/plain": [
       "          0         1         2\n",
       "b  0.065189 -0.790649  1.218722\n",
       "b -1.967461 -0.207487 -1.770639"
      ]
     },
     "execution_count": 15,
     "metadata": {},
     "output_type": "execute_result"
    }
   ],
   "source": [
    "df=pd.DataFrame(np.random.randn(4,3), index=['a','a','b','b'])\n",
    "df\n",
    "#df에 저장된 'b'인덱스 행을 모두 추출하시오\n",
    "df.loc['b']\n",
    "#df.ix['b'] 옛날 버전에서는 수행됨, df.loc[라벨명] or df.iloc[index]\n",
    "#df.ix[3]"
   ]
  },
  {
   "cell_type": "code",
   "execution_count": 16,
   "metadata": {},
   "outputs": [
    {
     "data": {
      "text/plain": [
       "a    1.3\n",
       "b    2.0\n",
       "c    0.0\n",
       "d   -1.0\n",
       "dtype: float64"
      ]
     },
     "execution_count": 16,
     "metadata": {},
     "output_type": "execute_result"
    }
   ],
   "source": [
    "df=pd.DataFrame([[1.3, np.nan],\n",
    "             [7.5, -5.5],\n",
    "             [np.nan, np.nan],\n",
    "             [0.5, -1.5]],\n",
    "               index=['a','b','c','d'],\n",
    "               columns=['one','two'])\n",
    "#데이터프레임:딕셔너리, 리스트, ...\n",
    "df\n",
    "\n",
    "df.sum(axis='rows') #컬럼의 합, nan제외, 결과가 시리즈, default : axis=0, 'rows'\n",
    "df.sum(axis='columns') \n",
    "#nan은 0으로 취급(na는 skip)"
   ]
  },
  {
   "cell_type": "code",
   "execution_count": 17,
   "metadata": {},
   "outputs": [
    {
     "name": "stdout",
     "output_type": "stream",
     "text": [
      "   one  two\n",
      "a  1.3  NaN\n",
      "b  7.5 -5.5\n",
      "c  NaN  NaN\n",
      "d  0.5 -1.5\n"
     ]
    },
    {
     "data": {
      "text/plain": [
       "a    NaN\n",
       "b    1.0\n",
       "c    NaN\n",
       "d   -0.5\n",
       "dtype: float64"
      ]
     },
     "execution_count": 17,
     "metadata": {},
     "output_type": "execute_result"
    }
   ],
   "source": [
    "print(df)\n",
    "df.mean() #axis=0 디폴트\n",
    "df.mean(axis=1)\n",
    "df.mean(axis=1, skipna=False) #기본값은 True"
   ]
  },
  {
   "cell_type": "code",
   "execution_count": 18,
   "metadata": {},
   "outputs": [
    {
     "data": {
      "text/plain": [
       "one    b\n",
       "two    d\n",
       "dtype: object"
      ]
     },
     "execution_count": 18,
     "metadata": {},
     "output_type": "execute_result"
    }
   ],
   "source": [
    "df\n",
    "df.idxmax()"
   ]
  },
  {
   "cell_type": "code",
   "execution_count": 19,
   "metadata": {},
   "outputs": [
    {
     "data": {
      "text/html": [
       "<div>\n",
       "<style scoped>\n",
       "    .dataframe tbody tr th:only-of-type {\n",
       "        vertical-align: middle;\n",
       "    }\n",
       "\n",
       "    .dataframe tbody tr th {\n",
       "        vertical-align: top;\n",
       "    }\n",
       "\n",
       "    .dataframe thead th {\n",
       "        text-align: right;\n",
       "    }\n",
       "</style>\n",
       "<table border=\"1\" class=\"dataframe\">\n",
       "  <thead>\n",
       "    <tr style=\"text-align: right;\">\n",
       "      <th></th>\n",
       "      <th>one</th>\n",
       "      <th>two</th>\n",
       "    </tr>\n",
       "  </thead>\n",
       "  <tbody>\n",
       "    <tr>\n",
       "      <th>a</th>\n",
       "      <td>1.3</td>\n",
       "      <td>NaN</td>\n",
       "    </tr>\n",
       "    <tr>\n",
       "      <th>b</th>\n",
       "      <td>8.8</td>\n",
       "      <td>-5.5</td>\n",
       "    </tr>\n",
       "    <tr>\n",
       "      <th>c</th>\n",
       "      <td>NaN</td>\n",
       "      <td>NaN</td>\n",
       "    </tr>\n",
       "    <tr>\n",
       "      <th>d</th>\n",
       "      <td>9.3</td>\n",
       "      <td>-7.0</td>\n",
       "    </tr>\n",
       "  </tbody>\n",
       "</table>\n",
       "</div>"
      ],
      "text/plain": [
       "   one  two\n",
       "a  1.3  NaN\n",
       "b  8.8 -5.5\n",
       "c  NaN  NaN\n",
       "d  9.3 -7.0"
      ]
     },
     "execution_count": 19,
     "metadata": {},
     "output_type": "execute_result"
    }
   ],
   "source": [
    "df\n",
    "df.cumsum()"
   ]
  },
  {
   "cell_type": "code",
   "execution_count": 20,
   "metadata": {},
   "outputs": [
    {
     "name": "stdout",
     "output_type": "stream",
     "text": [
      "   one  two\n",
      "a  1.3  NaN\n",
      "b  7.5 -5.5\n",
      "c  NaN  NaN\n",
      "d  0.5 -1.5\n"
     ]
    },
    {
     "data": {
      "text/html": [
       "<div>\n",
       "<style scoped>\n",
       "    .dataframe tbody tr th:only-of-type {\n",
       "        vertical-align: middle;\n",
       "    }\n",
       "\n",
       "    .dataframe tbody tr th {\n",
       "        vertical-align: top;\n",
       "    }\n",
       "\n",
       "    .dataframe thead th {\n",
       "        text-align: right;\n",
       "    }\n",
       "</style>\n",
       "<table border=\"1\" class=\"dataframe\">\n",
       "  <thead>\n",
       "    <tr style=\"text-align: right;\">\n",
       "      <th></th>\n",
       "      <th>one</th>\n",
       "      <th>two</th>\n",
       "    </tr>\n",
       "  </thead>\n",
       "  <tbody>\n",
       "    <tr>\n",
       "      <th>count</th>\n",
       "      <td>3.000000</td>\n",
       "      <td>2.000000</td>\n",
       "    </tr>\n",
       "    <tr>\n",
       "      <th>mean</th>\n",
       "      <td>3.100000</td>\n",
       "      <td>-3.500000</td>\n",
       "    </tr>\n",
       "    <tr>\n",
       "      <th>std</th>\n",
       "      <td>3.831449</td>\n",
       "      <td>2.828427</td>\n",
       "    </tr>\n",
       "    <tr>\n",
       "      <th>min</th>\n",
       "      <td>0.500000</td>\n",
       "      <td>-5.500000</td>\n",
       "    </tr>\n",
       "    <tr>\n",
       "      <th>25%</th>\n",
       "      <td>0.900000</td>\n",
       "      <td>-4.500000</td>\n",
       "    </tr>\n",
       "    <tr>\n",
       "      <th>50%</th>\n",
       "      <td>1.300000</td>\n",
       "      <td>-3.500000</td>\n",
       "    </tr>\n",
       "    <tr>\n",
       "      <th>75%</th>\n",
       "      <td>4.400000</td>\n",
       "      <td>-2.500000</td>\n",
       "    </tr>\n",
       "    <tr>\n",
       "      <th>max</th>\n",
       "      <td>7.500000</td>\n",
       "      <td>-1.500000</td>\n",
       "    </tr>\n",
       "  </tbody>\n",
       "</table>\n",
       "</div>"
      ],
      "text/plain": [
       "            one       two\n",
       "count  3.000000  2.000000\n",
       "mean   3.100000 -3.500000\n",
       "std    3.831449  2.828427\n",
       "min    0.500000 -5.500000\n",
       "25%    0.900000 -4.500000\n",
       "50%    1.300000 -3.500000\n",
       "75%    4.400000 -2.500000\n",
       "max    7.500000 -1.500000"
      ]
     },
     "execution_count": 20,
     "metadata": {},
     "output_type": "execute_result"
    }
   ],
   "source": [
    "print(df)\n",
    "df.describe()"
   ]
  },
  {
   "cell_type": "code",
   "execution_count": 21,
   "metadata": {},
   "outputs": [
    {
     "data": {
      "text/plain": [
       "count     15\n",
       "unique     3\n",
       "top        a\n",
       "freq       6\n",
       "dtype: object"
      ]
     },
     "execution_count": 21,
     "metadata": {},
     "output_type": "execute_result"
    }
   ],
   "source": [
    "#pd.Series(['a','a','b','b','c'])\n",
    "obj=pd.Series(['a','a','b','b','c']*3)\n",
    "obj.describe()"
   ]
  },
  {
   "cell_type": "code",
   "execution_count": 22,
   "metadata": {},
   "outputs": [],
   "source": [
    "#Collaborative Filtering(협업필터링) -> 추천시스템\n",
    "#협업필터링 알고리즘을 기반으로 추천시스템 제작\n",
    "#두 사람간 유사도 -> 예상 평점\n",
    "#User-based 협업필터링 :사용자 기반 협업필터링\n",
    "#Item-based 협업필터링 :아이템 기반 협업필터링\n",
    "#hybrid-based 협업필터링 :하이브리드 기반 협업필터링\n"
   ]
  },
  {
   "cell_type": "code",
   "execution_count": 23,
   "metadata": {},
   "outputs": [],
   "source": [
    "critics={\n",
    "            'BTS':{'암수살인':5,'바울':4, '할로윈':1.5},\n",
    "                      '손흥민':{'바울':5, '할로윈':2},\n",
    "    '레드벨벳':{'암수살인':2.5, '바울':2, '할로윈':1},\n",
    "    '트와이스':{'암수살인':3.5, '바울':4, '할로윈':5}}"
   ]
  },
  {
   "cell_type": "code",
   "execution_count": 24,
   "metadata": {},
   "outputs": [
    {
     "name": "stdout",
     "output_type": "stream",
     "text": [
      "BTS\n",
      "손흥민\n",
      "레드벨벳\n",
      "트와이스\n"
     ]
    }
   ],
   "source": [
    "for c in critics:\n",
    "    print(c)"
   ]
  },
  {
   "cell_type": "code",
   "execution_count": 25,
   "metadata": {},
   "outputs": [
    {
     "data": {
      "text/plain": [
       "{'바울': 5, '할로윈': 2}"
      ]
     },
     "execution_count": 25,
     "metadata": {},
     "output_type": "execute_result"
    }
   ],
   "source": [
    "critics['손흥민']\n",
    "critics.get('손흥민')"
   ]
  },
  {
   "cell_type": "code",
   "execution_count": 26,
   "metadata": {},
   "outputs": [
    {
     "data": {
      "text/plain": [
       "2"
      ]
     },
     "execution_count": 26,
     "metadata": {},
     "output_type": "execute_result"
    }
   ],
   "source": [
    "critics.get('손흥민')['할로윈']"
   ]
  },
  {
   "cell_type": "code",
   "execution_count": 27,
   "metadata": {},
   "outputs": [
    {
     "data": {
      "text/plain": [
       "2"
      ]
     },
     "execution_count": 27,
     "metadata": {},
     "output_type": "execute_result"
    }
   ],
   "source": [
    "critics.get('손흥민').get('할로윈')"
   ]
  },
  {
   "cell_type": "code",
   "execution_count": 28,
   "metadata": {},
   "outputs": [],
   "source": [
    "from math import sqrt\n",
    "pow(2,3) #2의 3승\n",
    "pow(2,2) #2의 제곱\n",
    "\n",
    "#sqrt(pow((x1-x2),2)+pow((y1-y2),2))\n",
    "\n",
    "#sqrt(pow(1,2)+pow(2,2))\n",
    "\n",
    "def sim(i,j): #i:x2-x1, j:y2-y1\n",
    "    return sqrt(pow(i,2)+pow(j,2))"
   ]
  },
  {
   "cell_type": "code",
   "execution_count": 29,
   "metadata": {},
   "outputs": [
    {
     "name": "stdout",
     "output_type": "stream",
     "text": [
      "3.1622776601683795\n"
     ]
    }
   ],
   "source": [
    "#sim함수를 이용하여 '손흥민'과 '트와이스' 사이의 거리를 구하시오.\n",
    "var1=critics.get('손흥민').get('바울')-critics.get('트와이스').get('바울')\n",
    "var2=critics.get('손흥민').get('할로윈')-critics.get('트와이스').get('할로윈')\n",
    "print(sim(var1,var2))"
   ]
  },
  {
   "cell_type": "code",
   "execution_count": 30,
   "metadata": {},
   "outputs": [
    {
     "name": "stdout",
     "output_type": "stream",
     "text": [
      "BTS : 1.118033988749895\n",
      "레드벨벳 : 3.1622776601683795\n",
      "트와이스 : 3.1622776601683795\n"
     ]
    }
   ],
   "source": [
    "# 손흥민 VS 레드벨벳 : ???\n",
    "# 손흥민 VS BTS : ???\n",
    "# 손흥민 VS 트와이스 : 3.16\n",
    "\n",
    "for c in critics:\n",
    "    if c!='손흥민':\n",
    "        num1=critics.get('손흥민').get('바울')-critics.get(c).get('바울')\n",
    "        num2=critics.get('손흥민').get('할로윈')-critics.get(c).get('할로윈')\n",
    "        print(c, \":\", sim(num1,num2))"
   ]
  },
  {
   "cell_type": "code",
   "execution_count": 31,
   "metadata": {},
   "outputs": [
    {
     "name": "stdout",
     "output_type": "stream",
     "text": [
      "BTS : 0.4721359549995794\n",
      "레드벨벳 : 0.2402530733520421\n",
      "트와이스 : 0.2402530733520421\n"
     ]
    }
   ],
   "source": [
    "#정규화: 각 열을 기준으로, 각 열 데이터의 값을 0~1사이로 오도록 하는 작업\n",
    "#정규화 =(각열 데이터-각열 최소값) / (각열 최대값 - 각열 최소값)\n",
    "for c in critics:\n",
    "    if c!='손흥민':\n",
    "        num1=critics.get('손흥민').get('바울')-critics.get(c).get('바울')\n",
    "        num2=critics.get('손흥민').get('할로윈')-critics.get(c).get('할로윈')\n",
    "        print(c, \":\", 1/(sim(num1,num2)+1)   )\n",
    "#sim함수 값(두 점 사이의 거리)이 클수록 -> 0에 근사해짐\n",
    "#sim함수 값(두 점 사이의 거리)이 작을수록 -> 1에 근사해짐\n",
    "\n",
    "#0에 가까울수록 두 사람의 영화 취향이 매우 다름.\n",
    "#무한대에 가까울수록 두 사람의 영화 취향이 매우 비슷.\n",
    "\n",
    "\n",
    "#1.정규화 =(각열 데이터-각열 최소값) / (각열 최대값 - 각열 최소값)\n",
    "#바울, 할로윈 열에 대해 정규화 작업 수행\n",
    "#             (    4    -   2) / (5 - 2)  =0.667\n",
    "# critics={\n",
    "#     'BTS':{'암수살인':5, '바울':4  -> 0.667, '할로윈':1.5},\n",
    "#     '손흥민':{'바울':5, '할로윈':2},\n",
    "#     '레드벨벳':{'암수살인':2.5, '바울':2, '할로윈':1},\n",
    "#     '트와이스':{'암수살인':3.5, '바울':4, '할로윈':5}}"
   ]
  },
  {
   "cell_type": "code",
   "execution_count": 32,
   "metadata": {},
   "outputs": [],
   "source": [
    "critics = {\n",
    "\n",
    "    '레드벨벳': {\n",
    "\n",
    "        '택시운전사': 2.5,\n",
    "\n",
    "        '겨울왕국': 3.5,\n",
    "\n",
    "        '리빙라스베가스': 3.0,\n",
    "\n",
    "        '넘버3': 3.5,\n",
    "\n",
    "        '사랑과전쟁': 2.5,\n",
    "\n",
    "        '세계대전': 3.0,\n",
    "\n",
    "    },\n",
    "\n",
    "    'BTS': {\n",
    "\n",
    "        '택시운전사': 1.0,\n",
    "\n",
    "        '겨울왕국': 4.5,\n",
    "\n",
    "        '리빙라스베가스': 0.5,\n",
    "\n",
    "        '넘버3': 1.5,\n",
    "\n",
    "        '사랑과전쟁': 4.5,\n",
    "\n",
    "        '세계대전': 5.0,\n",
    "\n",
    "    },\n",
    "\n",
    "    '블랙핑크': {\n",
    "\n",
    "        '택시운전사': 3.0,\n",
    "\n",
    "        '겨울왕국': 3.5,\n",
    "\n",
    "        '리빙라스베가스': 1.5,\n",
    "\n",
    "        '넘버3': 5.0,\n",
    "\n",
    "        '세계대전': 3.0,\n",
    "\n",
    "        '사랑과전쟁': 3.5,\n",
    "\n",
    "    },\n",
    "\n",
    "    '소녀시대': {\n",
    "\n",
    "        '택시운전사': 2.5,\n",
    "\n",
    "        '겨울왕국': 3.0,\n",
    "        \n",
    "        #KNN(유유상종), 회귀모델, 신경망(딥러닝), RF => 결측값 대체\n",
    "        \n",
    "        '넘버3': 3.5,\n",
    "\n",
    "        '세계대전': 4.0,\n",
    "\n",
    "    },\n",
    "\n",
    "    '마마무': {\n",
    "\n",
    "        '겨울왕국': 3.5,\n",
    "\n",
    "        '리빙라스베가스': 3.0,\n",
    "\n",
    "        '세계대전': 4.5,\n",
    "\n",
    "        '넘버3': 4.0,\n",
    "\n",
    "        '사랑과전쟁': 2.5,\n",
    "\n",
    "    },\n",
    "\n",
    "    '오마이걸': {\n",
    "\n",
    "        '택시운전사': 3.0,\n",
    "\n",
    "        '겨울왕국': 4.0,\n",
    "\n",
    "        '리빙라스베가스': 2.0,\n",
    "\n",
    "        '넘버3': 3.0,\n",
    "\n",
    "        '세계대전': 3.5,\n",
    "\n",
    "        '사랑과전쟁': 2.0,\n",
    "\n",
    "    },\n",
    "\n",
    "    '모모랜드': {\n",
    "\n",
    "        '택시운전사': 3.0,\n",
    "\n",
    "        '겨울왕국': 4.0,\n",
    "\n",
    "        '세계대전': 3.0,\n",
    "\n",
    "        '넘버3': 5.0,\n",
    "\n",
    "        '사랑과전쟁': 3.5,\n",
    "\n",
    "    },\n",
    "\n",
    "    '우주소녀': {'겨울왕국': 4.5, '사랑과전쟁': 1.0,\n",
    "\n",
    "             '넘버3': 4.0},\n",
    "\n",
    "}"
   ]
  },
  {
   "cell_type": "code",
   "execution_count": 33,
   "metadata": {},
   "outputs": [],
   "source": [
    "#2. 소녀시대와 거리가 가장 가까운 그룹이 누구인지 조사하시오.\n",
    "#(정규화를 먼저 진행하세요)"
   ]
  },
  {
   "cell_type": "code",
   "execution_count": 34,
   "metadata": {},
   "outputs": [],
   "source": [
    "import matplotlib.pyplot as plt\n",
    "import pandas as pd\n",
    "import numpy as np\n",
    "from math import sqrt"
   ]
  },
  {
   "cell_type": "code",
   "execution_count": 35,
   "metadata": {},
   "outputs": [
    {
     "data": {
      "text/plain": [
       "0.3405424265831667"
      ]
     },
     "execution_count": 35,
     "metadata": {},
     "output_type": "execute_result"
    }
   ],
   "source": [
    "#P, Q점 거리\n",
    "def simDistance(data, name1, name2): #두 점 사이의 거리를 리턴해주는 함수\n",
    "    #같은 영화를 본 데이터에 대해서만 수식으로 계산\n",
    "    sum=0\n",
    "    for i in data[name1]: #i에는 소녀시대가 관람한 영화 제목이 차례대로 저장됨\n",
    "        if i in data[name2]:#'블랙핑크와 소녀시대가 같은 영화를 봤다면' -> 코딩\n",
    "            sum+=pow(data[name1][i]-data[name2][i],2)\n",
    "    #print(sqrt(sum)) #유클리디안거리\n",
    "    return 1/(sqrt(sum)+1) #유사도\n",
    "        \n",
    "#     print(data[name1])\n",
    "#     print(data[name2])\n",
    "    \n",
    "simDistance(critics, '소녀시대', '블랙핑크')    \n",
    "#소녀시대와 블랙핑크 유클리디안 거리? 1.93\n",
    "#소녀시대와 블랙핑크 유사도(0~1)? 0.34"
   ]
  },
  {
   "cell_type": "code",
   "execution_count": 36,
   "metadata": {},
   "outputs": [],
   "source": [
    "#소녀시대와 가장 유사도가 높은 관객(들) 셋을 검색 "
   ]
  },
  {
   "cell_type": "code",
   "execution_count": 37,
   "metadata": {},
   "outputs": [
    {
     "name": "stdout",
     "output_type": "stream",
     "text": [
      "[(0.4721359549995794, '레드벨벳'), (0.2449655295864104, 'BTS'), (0.3405424265831667, '블랙핑크'), (0.5358983848622454, '마마무'), (0.43050087404306037, '오마이걸'), (0.32037724101704074, '모모랜드'), (0.38742588672279304, '우주소녀')]\n"
     ]
    }
   ],
   "source": [
    "def topMatch(data, name, index=3, simFunc=simDistance): #index는 유사도가 가장 높은 3명(그룹)\n",
    "    res=[]\n",
    "    for i in data: #i에는 critics의 키(관객명)가 차례대로 저장\n",
    "        if i != name: #소녀시대를 제외한 나머지 그룹명에 해당한다면\n",
    "            res.append((simFunc(data, name, i),i)) #simFunc 함수 호출\n",
    "            #simFunc(critics, '소녀시대', '그룹명')\n",
    "    print(res)\n",
    "    \n",
    "    #리스트 변수 초기화\n",
    "    #소녀시대와 나머지 그룹간 유사도를 모두 구하고 저장(유사도,이름)한다(리스트)\n",
    "    #유사도 정렬(내림) -> return (리스트에서 index 만큼 추출 )\n",
    "    \n",
    "topMatch(critics, '소녀시대')"
   ]
  },
  {
   "cell_type": "code",
   "execution_count": null,
   "metadata": {},
   "outputs": [],
   "source": []
  },
  {
   "cell_type": "code",
   "execution_count": null,
   "metadata": {},
   "outputs": [],
   "source": []
  },
  {
   "cell_type": "code",
   "execution_count": null,
   "metadata": {},
   "outputs": [],
   "source": []
  },
  {
   "cell_type": "code",
   "execution_count": null,
   "metadata": {},
   "outputs": [],
   "source": []
  },
  {
   "cell_type": "code",
   "execution_count": null,
   "metadata": {},
   "outputs": [],
   "source": []
  },
  {
   "cell_type": "code",
   "execution_count": null,
   "metadata": {},
   "outputs": [],
   "source": []
  },
  {
   "cell_type": "code",
   "execution_count": null,
   "metadata": {},
   "outputs": [],
   "source": []
  },
  {
   "cell_type": "code",
   "execution_count": null,
   "metadata": {},
   "outputs": [],
   "source": []
  },
  {
   "cell_type": "code",
   "execution_count": 38,
   "metadata": {},
   "outputs": [],
   "source": [
    "import numpy as np\n",
    "import pandas as pd\n",
    "import matplotlib.pyplot as plt\n",
    "from math import sqrt"
   ]
  },
  {
   "cell_type": "code",
   "execution_count": 39,
   "metadata": {},
   "outputs": [],
   "source": [
    "critics = {\n",
    "    '레드벨벳': {\n",
    "        '택시운전사': 2.5,\n",
    "        '겨울왕국': 3.5,\n",
    "        '리빙라스베가스': 3.0,\n",
    "        '넘버3': 3.5,\n",
    "        '사랑과전쟁': 2.5,\n",
    "        '세계대전': 3.0,\n",
    "    },\n",
    "    'BTS': {\n",
    "        '택시운전사': 1.0,\n",
    "        '겨울왕국': 4.5,\n",
    "        '리빙라스베가스': 0.5,\n",
    "        '넘버3': 1.5,\n",
    "        '사랑과전쟁': 4.5,\n",
    "        '세계대전': 5.0,\n",
    "    },\n",
    "    '블랙핑크': {\n",
    "        '택시운전사': 3.0,\n",
    "        '겨울왕국': 3.5,\n",
    "        '리빙라스베가스': 1.5,\n",
    "        '넘버3': 5.0,\n",
    "        '세계대전': 3.0,\n",
    "        '사랑과전쟁': 3.5,\n",
    "    },\n",
    "    '소녀시대': {\n",
    "        '택시운전사': 2.5,\n",
    "        '겨울왕국': 3.0,\n",
    "        '넘버3': 3.5,\n",
    "        '세계대전': 4.0,\n",
    "    },\n",
    "    '마마무': {\n",
    "        '겨울왕국': 3.5,\n",
    "        '리빙라스베가스': 3.0,\n",
    "        '세계대전': 4.5,\n",
    "        '넘버3': 4.0,\n",
    "        '사랑과전쟁': 2.5,\n",
    "    },\n",
    "    '오마이걸': {\n",
    "        '택시운전사': 3.0,\n",
    "        '겨울왕국': 4.0,\n",
    "        '리빙라스베가스': 2.0,\n",
    "        '넘버3': 3.0,\n",
    "        '세계대전': 3.5,\n",
    "        '사랑과전쟁': 2.0,\n",
    "    },\n",
    "    '모모랜드': {\n",
    "        '택시운전사': 3.0,\n",
    "        '겨울왕국': 4.0,\n",
    "        '세계대전': 3.0,\n",
    "        '넘버3': 5.0,\n",
    "        '사랑과전쟁': 3.5,\n",
    "    },\n",
    "    '우주소녀': {\n",
    "        '겨울왕국': 4.5, \n",
    "        '사랑과전쟁': 1.0,\n",
    "        '넘버3': 4.0\n",
    "    }\n",
    "}"
   ]
  },
  {
   "cell_type": "code",
   "execution_count": 40,
   "metadata": {},
   "outputs": [
    {
     "name": "stdout",
     "output_type": "stream",
     "text": [
      "{'택시운전사': 2.5, '겨울왕국': 3.0, '넘버3': 3.5, '세계대전': 4.0}\n",
      "{'택시운전사': 3.0, '겨울왕국': 3.5, '리빙라스베가스': 1.5, '넘버3': 5.0, '세계대전': 3.0, '사랑과전쟁': 3.5}\n"
     ]
    }
   ],
   "source": [
    "def simDistance(data, name1, name2):\n",
    "    print(data[name1])\n",
    "    print(data[name2])\n",
    "\n",
    "simDistance(critics, \"소녀시대\", \"블랙핑크\")"
   ]
  },
  {
   "cell_type": "code",
   "execution_count": 42,
   "metadata": {},
   "outputs": [
    {
     "data": {
      "text/plain": [
       "(0.0, 5.0, 0.0, 5.0)"
      ]
     },
     "execution_count": 42,
     "metadata": {},
     "output_type": "execute_result"
    },
    {
     "data": {
      "image/png": "[encoded data removed]",
      "text/plain": [
       "<Figure size 1008x576 with 1 Axes>"
      ]
     },
     "metadata": {
      "needs_background": "light"
     },
     "output_type": "display_data"
    }
   ],
   "source": [
    "plt.figure(figsize=(14, 8))\n",
    "plt.plot([1, 2, 3], [1, 2, 3], 'g^')\n",
    "plt.text(1, 1, 'apple')\n",
    "plt.text(2, 2, 'banana')\n",
    "plt.text(3, 3, 'grape')\n",
    "plt.axis([0, 5, 0, 5])"
   ]
  },
  {
   "cell_type": "code",
   "execution_count": 48,
   "metadata": {},
   "outputs": [],
   "source": [
    "plt.rc('font', family='AppleGothic')"
   ]
  },
  {
   "cell_type": "code",
   "execution_count": 50,
   "metadata": {},
   "outputs": [
    {
     "data": {
      "image/png": "[encoded data removed]",
      "text/plain": [
       "<Figure size 1008x576 with 1 Axes>"
      ]
     },
     "metadata": {
      "needs_background": "light"
     },
     "output_type": "display_data"
    }
   ],
   "source": [
    "def drawGraph(critics, name1, name2):\n",
    "    plt.figure(figsize=(14, 8))\n",
    " \n",
    "    temp1 = []\n",
    "    temp2 = []\n",
    "    \n",
    "    for i in critics[name1]:\n",
    "        if i in critics[name2]:\n",
    "            temp1.append(critics[name1][i])\n",
    "            temp2.append(critics[name2][i])\n",
    "            plt.text(critics[name1][i], critics[name2][i], i)\n",
    "    plt.plot(temp1, temp2, 'ro')\n",
    "    plt.axis([0, 6, 0, 6])\n",
    "    plt.xlabel(name1)\n",
    "    plt.ylabel(name2)\n",
    "    \n",
    "drawGraph(critics, \"BTS\", \"블랙핑크\")"
   ]
  },
  {
   "cell_type": "code",
   "execution_count": 51,
   "metadata": {},
   "outputs": [
    {
     "name": "stdout",
     "output_type": "stream",
     "text": [
      "[(0.1774053291584318, '레드벨벳'), (0.17176743283130236, '블랙핑크'), (0.2449655295864104, '소녀시대'), (0.1918253663634734, '마마무'), (0.19404996501286384, '오마이걸'), (0.1774053291584318, '모모랜드'), (0.1886378647726465, '우주소녀')]\n"
     ]
    }
   ],
   "source": [
    "topMatch(critics, 'BTS', 5)"
   ]
  },
  {
   "cell_type": "code",
   "execution_count": null,
   "metadata": {},
   "outputs": [],
   "source": []
  }
 ],
 "metadata": {
  "kernelspec": {
   "display_name": "Python 3",
   "language": "python",
   "name": "python3"
  },
  "language_info": {
   "codemirror_mode": {
    "name": "ipython",
    "version": 3
   },
   "file_extension": ".py",
   "mimetype": "text/x-python",
   "name": "python",
   "nbconvert_exporter": "python",
   "pygments_lexer": "ipython3",
   "version": "3.8.5"
  }
 },
 "nbformat": 4,
 "nbformat_minor": 4
}
